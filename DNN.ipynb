{
  "nbformat": 4,
  "nbformat_minor": 0,
  "metadata": {
    "colab": {
      "provenance": [],
      "machine_shape": "hm",
      "gpuType": "A100"
    },
    "kernelspec": {
      "name": "python3",
      "display_name": "Python 3"
    },
    "language_info": {
      "name": "python"
    }
  },
  "cells": [
    {
      "cell_type": "code",
      "execution_count": 1,
      "metadata": {
        "id": "NHdfXb5u9DAA"
      },
      "outputs": [],
      "source": [
        "!pip install kaggle"
      ]
    },
    {
      "cell_type": "code",
      "source": [
        "! mkdir ~/.kaggle"
      ],
      "metadata": {
        "id": "cCpgBbU59Qmj"
      },
      "execution_count": 2,
      "outputs": []
    },
    {
      "cell_type": "code",
      "source": [
        "! cp kaggle.json ~/.kaggle/"
      ],
      "metadata": {
        "id": "SX7q8e6y9tMv"
      },
      "execution_count": 3,
      "outputs": []
    },
    {
      "cell_type": "code",
      "source": [
        "! chmod 600 ~/.kaggle/kaggle.json"
      ],
      "metadata": {
        "id": "UyWE5Amh9WUa"
      },
      "execution_count": 4,
      "outputs": []
    },
    {
      "cell_type": "code",
      "source": [
        "! kaggle competitions download g2net-gravitational-wave-detection"
      ],
      "metadata": {
        "colab": {
          "base_uri": "https://localhost:8080/"
        },
        "id": "9lMqStOO9Y1i",
        "outputId": "5769db35-6a2b-475a-b280-29125a6e61a7"
      },
      "execution_count": 5,
      "outputs": [
        {
          "output_type": "stream",
          "name": "stdout",
          "text": [
            "Downloading g2net-gravitational-wave-detection.zip to /content\n",
            "100% 69.0G/69.0G [07:51<00:00, 226MB/s]\n",
            "100% 69.0G/69.0G [07:51<00:00, 157MB/s]\n"
          ]
        }
      ]
    },
    {
      "cell_type": "code",
      "source": [
        "! mkdir g2net-gw"
      ],
      "metadata": {
        "id": "_BJlkv9r9yiF"
      },
      "execution_count": 6,
      "outputs": []
    },
    {
      "cell_type": "code",
      "source": [
        "! unzip g2net-gravitational-wave-detection.zip -d g2net-gw"
      ],
      "metadata": {
        "id": "-2XcDtezHiZX"
      },
      "execution_count": null,
      "outputs": []
    },
    {
      "cell_type": "code",
      "source": [
        "!pip install nnAudio"
      ],
      "metadata": {
        "id": "zj-NWq7ZHn5C",
        "colab": {
          "base_uri": "https://localhost:8080/"
        },
        "outputId": "20282f89-aefe-40e8-9b2e-7c9c97b42b5a"
      },
      "execution_count": 8,
      "outputs": [
        {
          "output_type": "stream",
          "name": "stdout",
          "text": [
            "Collecting nnAudio\n",
            "  Downloading nnAudio-0.3.2-py3-none-any.whl (43 kB)\n",
            "\u001b[2K     \u001b[90m━━━━━━━━━━━━━━━━━━━━━━━━━━━━━━━━━━━━━━━━\u001b[0m \u001b[32m43.3/43.3 kB\u001b[0m \u001b[31m3.1 MB/s\u001b[0m eta \u001b[36m0:00:00\u001b[0m\n",
            "\u001b[?25hRequirement already satisfied: scipy in /usr/local/lib/python3.10/dist-packages (from nnAudio) (1.10.1)\n",
            "Requirement already satisfied: numpy<1.27.0,>=1.19.5 in /usr/local/lib/python3.10/dist-packages (from scipy->nnAudio) (1.22.4)\n",
            "Installing collected packages: nnAudio\n",
            "Successfully installed nnAudio-0.3.2\n"
          ]
        }
      ]
    },
    {
      "cell_type": "code",
      "source": [
        "import warnings\n",
        "warnings.filterwarnings('ignore')\n",
        "\n",
        "import numpy as np\n",
        "import pandas as pd\n",
        "import matplotlib.pylab as plt\n",
        "import seaborn as sns\n",
        "from glob import glob\n",
        "from tqdm import tqdm\n",
        "from sklearn.model_selection import train_test_split\n",
        "\n",
        "import tensorflow as tf\n",
        "from tensorflow.keras.models import Sequential\n",
        "from tensorflow.keras.optimizers import Adam\n",
        "from tensorflow.keras.layers import Dense\n",
        "from tensorflow.keras.layers import Conv2D\n",
        "from tensorflow.keras.layers import MaxPooling2D\n",
        "from tensorflow.keras.layers import GlobalAveragePooling2D\n",
        "from tensorflow.keras.layers import Flatten\n",
        "from tensorflow.keras.applications import EfficientNetB0\n",
        "from tensorflow.keras.metrics import AUC\n",
        "\n",
        "import librosa.display\n",
        "import torch\n",
        "\n",
        "# this is used for Contant Q Transform\n",
        "from nnAudio.Spectrogram import CQT1992v2\n",
        "from tensorflow.keras.applications import EfficientNetB0 as efn"
      ],
      "metadata": {
        "id": "4BbmLvdXMuLF"
      },
      "execution_count": 9,
      "outputs": []
    },
    {
      "cell_type": "code",
      "source": [
        "train_labels = pd.read_csv(\"/content/g2net-gw/training_labels.csv\")\n",
        "train_labels.head()"
      ],
      "metadata": {
        "id": "KgqsOisrNCF_",
        "colab": {
          "base_uri": "https://localhost:8080/",
          "height": 206
        },
        "outputId": "d3ceaeac-22f8-4b41-9aac-d4dcf1a960ff"
      },
      "execution_count": 10,
      "outputs": [
        {
          "output_type": "execute_result",
          "data": {
            "text/plain": [
              "           id  target\n",
              "0  00000e74ad       1\n",
              "1  00001f4945       0\n",
              "2  0000661522       0\n",
              "3  00007a006a       0\n",
              "4  0000a38978       1"
            ],
            "text/html": [
              "\n",
              "\n",
              "  <div id=\"df-fea9b421-8836-4975-88a5-75f5deb81e5b\">\n",
              "    <div class=\"colab-df-container\">\n",
              "      <div>\n",
              "<style scoped>\n",
              "    .dataframe tbody tr th:only-of-type {\n",
              "        vertical-align: middle;\n",
              "    }\n",
              "\n",
              "    .dataframe tbody tr th {\n",
              "        vertical-align: top;\n",
              "    }\n",
              "\n",
              "    .dataframe thead th {\n",
              "        text-align: right;\n",
              "    }\n",
              "</style>\n",
              "<table border=\"1\" class=\"dataframe\">\n",
              "  <thead>\n",
              "    <tr style=\"text-align: right;\">\n",
              "      <th></th>\n",
              "      <th>id</th>\n",
              "      <th>target</th>\n",
              "    </tr>\n",
              "  </thead>\n",
              "  <tbody>\n",
              "    <tr>\n",
              "      <th>0</th>\n",
              "      <td>00000e74ad</td>\n",
              "      <td>1</td>\n",
              "    </tr>\n",
              "    <tr>\n",
              "      <th>1</th>\n",
              "      <td>00001f4945</td>\n",
              "      <td>0</td>\n",
              "    </tr>\n",
              "    <tr>\n",
              "      <th>2</th>\n",
              "      <td>0000661522</td>\n",
              "      <td>0</td>\n",
              "    </tr>\n",
              "    <tr>\n",
              "      <th>3</th>\n",
              "      <td>00007a006a</td>\n",
              "      <td>0</td>\n",
              "    </tr>\n",
              "    <tr>\n",
              "      <th>4</th>\n",
              "      <td>0000a38978</td>\n",
              "      <td>1</td>\n",
              "    </tr>\n",
              "  </tbody>\n",
              "</table>\n",
              "</div>\n",
              "      <button class=\"colab-df-convert\" onclick=\"convertToInteractive('df-fea9b421-8836-4975-88a5-75f5deb81e5b')\"\n",
              "              title=\"Convert this dataframe to an interactive table.\"\n",
              "              style=\"display:none;\">\n",
              "\n",
              "  <svg xmlns=\"http://www.w3.org/2000/svg\" height=\"24px\"viewBox=\"0 0 24 24\"\n",
              "       width=\"24px\">\n",
              "    <path d=\"M0 0h24v24H0V0z\" fill=\"none\"/>\n",
              "    <path d=\"M18.56 5.44l.94 2.06.94-2.06 2.06-.94-2.06-.94-.94-2.06-.94 2.06-2.06.94zm-11 1L8.5 8.5l.94-2.06 2.06-.94-2.06-.94L8.5 2.5l-.94 2.06-2.06.94zm10 10l.94 2.06.94-2.06 2.06-.94-2.06-.94-.94-2.06-.94 2.06-2.06.94z\"/><path d=\"M17.41 7.96l-1.37-1.37c-.4-.4-.92-.59-1.43-.59-.52 0-1.04.2-1.43.59L10.3 9.45l-7.72 7.72c-.78.78-.78 2.05 0 2.83L4 21.41c.39.39.9.59 1.41.59.51 0 1.02-.2 1.41-.59l7.78-7.78 2.81-2.81c.8-.78.8-2.07 0-2.86zM5.41 20L4 18.59l7.72-7.72 1.47 1.35L5.41 20z\"/>\n",
              "  </svg>\n",
              "      </button>\n",
              "\n",
              "\n",
              "\n",
              "    <div id=\"df-b46a7e4d-f238-4fa5-9311-53defe6c898f\">\n",
              "      <button class=\"colab-df-quickchart\" onclick=\"quickchart('df-b46a7e4d-f238-4fa5-9311-53defe6c898f')\"\n",
              "              title=\"Suggest charts.\"\n",
              "              style=\"display:none;\">\n",
              "\n",
              "<svg xmlns=\"http://www.w3.org/2000/svg\" height=\"24px\"viewBox=\"0 0 24 24\"\n",
              "     width=\"24px\">\n",
              "    <g>\n",
              "        <path d=\"M19 3H5c-1.1 0-2 .9-2 2v14c0 1.1.9 2 2 2h14c1.1 0 2-.9 2-2V5c0-1.1-.9-2-2-2zM9 17H7v-7h2v7zm4 0h-2V7h2v10zm4 0h-2v-4h2v4z\"/>\n",
              "    </g>\n",
              "</svg>\n",
              "      </button>\n",
              "    </div>\n",
              "\n",
              "<style>\n",
              "  .colab-df-quickchart {\n",
              "    background-color: #E8F0FE;\n",
              "    border: none;\n",
              "    border-radius: 50%;\n",
              "    cursor: pointer;\n",
              "    display: none;\n",
              "    fill: #1967D2;\n",
              "    height: 32px;\n",
              "    padding: 0 0 0 0;\n",
              "    width: 32px;\n",
              "  }\n",
              "\n",
              "  .colab-df-quickchart:hover {\n",
              "    background-color: #E2EBFA;\n",
              "    box-shadow: 0px 1px 2px rgba(60, 64, 67, 0.3), 0px 1px 3px 1px rgba(60, 64, 67, 0.15);\n",
              "    fill: #174EA6;\n",
              "  }\n",
              "\n",
              "  [theme=dark] .colab-df-quickchart {\n",
              "    background-color: #3B4455;\n",
              "    fill: #D2E3FC;\n",
              "  }\n",
              "\n",
              "  [theme=dark] .colab-df-quickchart:hover {\n",
              "    background-color: #434B5C;\n",
              "    box-shadow: 0px 1px 3px 1px rgba(0, 0, 0, 0.15);\n",
              "    filter: drop-shadow(0px 1px 2px rgba(0, 0, 0, 0.3));\n",
              "    fill: #FFFFFF;\n",
              "  }\n",
              "</style>\n",
              "\n",
              "    <script>\n",
              "      async function quickchart(key) {\n",
              "        const containerElement = document.querySelector('#' + key);\n",
              "        const charts = await google.colab.kernel.invokeFunction(\n",
              "            'suggestCharts', [key], {});\n",
              "      }\n",
              "    </script>\n",
              "\n",
              "      <script>\n",
              "\n",
              "function displayQuickchartButton(domScope) {\n",
              "  let quickchartButtonEl =\n",
              "    domScope.querySelector('#df-b46a7e4d-f238-4fa5-9311-53defe6c898f button.colab-df-quickchart');\n",
              "  quickchartButtonEl.style.display =\n",
              "    google.colab.kernel.accessAllowed ? 'block' : 'none';\n",
              "}\n",
              "\n",
              "        displayQuickchartButton(document);\n",
              "      </script>\n",
              "      <style>\n",
              "    .colab-df-container {\n",
              "      display:flex;\n",
              "      flex-wrap:wrap;\n",
              "      gap: 12px;\n",
              "    }\n",
              "\n",
              "    .colab-df-convert {\n",
              "      background-color: #E8F0FE;\n",
              "      border: none;\n",
              "      border-radius: 50%;\n",
              "      cursor: pointer;\n",
              "      display: none;\n",
              "      fill: #1967D2;\n",
              "      height: 32px;\n",
              "      padding: 0 0 0 0;\n",
              "      width: 32px;\n",
              "    }\n",
              "\n",
              "    .colab-df-convert:hover {\n",
              "      background-color: #E2EBFA;\n",
              "      box-shadow: 0px 1px 2px rgba(60, 64, 67, 0.3), 0px 1px 3px 1px rgba(60, 64, 67, 0.15);\n",
              "      fill: #174EA6;\n",
              "    }\n",
              "\n",
              "    [theme=dark] .colab-df-convert {\n",
              "      background-color: #3B4455;\n",
              "      fill: #D2E3FC;\n",
              "    }\n",
              "\n",
              "    [theme=dark] .colab-df-convert:hover {\n",
              "      background-color: #434B5C;\n",
              "      box-shadow: 0px 1px 3px 1px rgba(0, 0, 0, 0.15);\n",
              "      filter: drop-shadow(0px 1px 2px rgba(0, 0, 0, 0.3));\n",
              "      fill: #FFFFFF;\n",
              "    }\n",
              "  </style>\n",
              "\n",
              "      <script>\n",
              "        const buttonEl =\n",
              "          document.querySelector('#df-fea9b421-8836-4975-88a5-75f5deb81e5b button.colab-df-convert');\n",
              "        buttonEl.style.display =\n",
              "          google.colab.kernel.accessAllowed ? 'block' : 'none';\n",
              "\n",
              "        async function convertToInteractive(key) {\n",
              "          const element = document.querySelector('#df-fea9b421-8836-4975-88a5-75f5deb81e5b');\n",
              "          const dataTable =\n",
              "            await google.colab.kernel.invokeFunction('convertToInteractive',\n",
              "                                                     [key], {});\n",
              "          if (!dataTable) return;\n",
              "\n",
              "          const docLinkHtml = 'Like what you see? Visit the ' +\n",
              "            '<a target=\"_blank\" href=https://colab.research.google.com/notebooks/data_table.ipynb>data table notebook</a>'\n",
              "            + ' to learn more about interactive tables.';\n",
              "          element.innerHTML = '';\n",
              "          dataTable['output_type'] = 'display_data';\n",
              "          await google.colab.output.renderOutput(dataTable, element);\n",
              "          const docLink = document.createElement('div');\n",
              "          docLink.innerHTML = docLinkHtml;\n",
              "          element.appendChild(docLink);\n",
              "        }\n",
              "      </script>\n",
              "    </div>\n",
              "  </div>\n"
            ]
          },
          "metadata": {},
          "execution_count": 10
        }
      ]
    },
    {
      "cell_type": "code",
      "source": [
        "train_path = glob(\"/content/g2net-gw/train/*/*/*/*\")"
      ],
      "metadata": {
        "id": "u1p5XMSbNRQq"
      },
      "execution_count": 11,
      "outputs": []
    },
    {
      "cell_type": "code",
      "source": [
        "# get the list of ids from the .npy files\n",
        "ids_from_npy_files = [path.split(\"/\")[-1].split(\".\")[0] for path in train_path]\n",
        "\n",
        "# get a dataframe with paths and ids of those .npy files\n",
        "df_path_id = pd.DataFrame({'path': train_path, 'id':ids_from_npy_files})\n",
        "\n",
        "# merging that above df with the target\n",
        "df_train = pd.merge(left=train_labels, right=df_path_id, on='id')\n",
        "display(df_train.head())\n",
        "\n",
        "# verifying the shape of the merged df has 5,60,000 rows and 3 columns\n",
        "print(df_train.shape)\n"
      ],
      "metadata": {
        "id": "8bubVV2lNlYQ",
        "colab": {
          "base_uri": "https://localhost:8080/",
          "height": 224
        },
        "outputId": "e6ae7b94-d2ec-42c5-de2d-3397a66e4d74"
      },
      "execution_count": 12,
      "outputs": [
        {
          "output_type": "display_data",
          "data": {
            "text/plain": [
              "           id  target                                          path\n",
              "0  00000e74ad       1  /content/g2net-gw/train/0/0/0/00000e74ad.npy\n",
              "1  00001f4945       0  /content/g2net-gw/train/0/0/0/00001f4945.npy\n",
              "2  0000661522       0  /content/g2net-gw/train/0/0/0/0000661522.npy\n",
              "3  00007a006a       0  /content/g2net-gw/train/0/0/0/00007a006a.npy\n",
              "4  0000a38978       1  /content/g2net-gw/train/0/0/0/0000a38978.npy"
            ],
            "text/html": [
              "\n",
              "\n",
              "  <div id=\"df-905e52dc-cd9b-477d-940f-15e770a4834a\">\n",
              "    <div class=\"colab-df-container\">\n",
              "      <div>\n",
              "<style scoped>\n",
              "    .dataframe tbody tr th:only-of-type {\n",
              "        vertical-align: middle;\n",
              "    }\n",
              "\n",
              "    .dataframe tbody tr th {\n",
              "        vertical-align: top;\n",
              "    }\n",
              "\n",
              "    .dataframe thead th {\n",
              "        text-align: right;\n",
              "    }\n",
              "</style>\n",
              "<table border=\"1\" class=\"dataframe\">\n",
              "  <thead>\n",
              "    <tr style=\"text-align: right;\">\n",
              "      <th></th>\n",
              "      <th>id</th>\n",
              "      <th>target</th>\n",
              "      <th>path</th>\n",
              "    </tr>\n",
              "  </thead>\n",
              "  <tbody>\n",
              "    <tr>\n",
              "      <th>0</th>\n",
              "      <td>00000e74ad</td>\n",
              "      <td>1</td>\n",
              "      <td>/content/g2net-gw/train/0/0/0/00000e74ad.npy</td>\n",
              "    </tr>\n",
              "    <tr>\n",
              "      <th>1</th>\n",
              "      <td>00001f4945</td>\n",
              "      <td>0</td>\n",
              "      <td>/content/g2net-gw/train/0/0/0/00001f4945.npy</td>\n",
              "    </tr>\n",
              "    <tr>\n",
              "      <th>2</th>\n",
              "      <td>0000661522</td>\n",
              "      <td>0</td>\n",
              "      <td>/content/g2net-gw/train/0/0/0/0000661522.npy</td>\n",
              "    </tr>\n",
              "    <tr>\n",
              "      <th>3</th>\n",
              "      <td>00007a006a</td>\n",
              "      <td>0</td>\n",
              "      <td>/content/g2net-gw/train/0/0/0/00007a006a.npy</td>\n",
              "    </tr>\n",
              "    <tr>\n",
              "      <th>4</th>\n",
              "      <td>0000a38978</td>\n",
              "      <td>1</td>\n",
              "      <td>/content/g2net-gw/train/0/0/0/0000a38978.npy</td>\n",
              "    </tr>\n",
              "  </tbody>\n",
              "</table>\n",
              "</div>\n",
              "      <button class=\"colab-df-convert\" onclick=\"convertToInteractive('df-905e52dc-cd9b-477d-940f-15e770a4834a')\"\n",
              "              title=\"Convert this dataframe to an interactive table.\"\n",
              "              style=\"display:none;\">\n",
              "\n",
              "  <svg xmlns=\"http://www.w3.org/2000/svg\" height=\"24px\"viewBox=\"0 0 24 24\"\n",
              "       width=\"24px\">\n",
              "    <path d=\"M0 0h24v24H0V0z\" fill=\"none\"/>\n",
              "    <path d=\"M18.56 5.44l.94 2.06.94-2.06 2.06-.94-2.06-.94-.94-2.06-.94 2.06-2.06.94zm-11 1L8.5 8.5l.94-2.06 2.06-.94-2.06-.94L8.5 2.5l-.94 2.06-2.06.94zm10 10l.94 2.06.94-2.06 2.06-.94-2.06-.94-.94-2.06-.94 2.06-2.06.94z\"/><path d=\"M17.41 7.96l-1.37-1.37c-.4-.4-.92-.59-1.43-.59-.52 0-1.04.2-1.43.59L10.3 9.45l-7.72 7.72c-.78.78-.78 2.05 0 2.83L4 21.41c.39.39.9.59 1.41.59.51 0 1.02-.2 1.41-.59l7.78-7.78 2.81-2.81c.8-.78.8-2.07 0-2.86zM5.41 20L4 18.59l7.72-7.72 1.47 1.35L5.41 20z\"/>\n",
              "  </svg>\n",
              "      </button>\n",
              "\n",
              "\n",
              "\n",
              "    <div id=\"df-120f8b7e-dc5f-4f2a-8385-ceb5e893c4f0\">\n",
              "      <button class=\"colab-df-quickchart\" onclick=\"quickchart('df-120f8b7e-dc5f-4f2a-8385-ceb5e893c4f0')\"\n",
              "              title=\"Suggest charts.\"\n",
              "              style=\"display:none;\">\n",
              "\n",
              "<svg xmlns=\"http://www.w3.org/2000/svg\" height=\"24px\"viewBox=\"0 0 24 24\"\n",
              "     width=\"24px\">\n",
              "    <g>\n",
              "        <path d=\"M19 3H5c-1.1 0-2 .9-2 2v14c0 1.1.9 2 2 2h14c1.1 0 2-.9 2-2V5c0-1.1-.9-2-2-2zM9 17H7v-7h2v7zm4 0h-2V7h2v10zm4 0h-2v-4h2v4z\"/>\n",
              "    </g>\n",
              "</svg>\n",
              "      </button>\n",
              "    </div>\n",
              "\n",
              "<style>\n",
              "  .colab-df-quickchart {\n",
              "    background-color: #E8F0FE;\n",
              "    border: none;\n",
              "    border-radius: 50%;\n",
              "    cursor: pointer;\n",
              "    display: none;\n",
              "    fill: #1967D2;\n",
              "    height: 32px;\n",
              "    padding: 0 0 0 0;\n",
              "    width: 32px;\n",
              "  }\n",
              "\n",
              "  .colab-df-quickchart:hover {\n",
              "    background-color: #E2EBFA;\n",
              "    box-shadow: 0px 1px 2px rgba(60, 64, 67, 0.3), 0px 1px 3px 1px rgba(60, 64, 67, 0.15);\n",
              "    fill: #174EA6;\n",
              "  }\n",
              "\n",
              "  [theme=dark] .colab-df-quickchart {\n",
              "    background-color: #3B4455;\n",
              "    fill: #D2E3FC;\n",
              "  }\n",
              "\n",
              "  [theme=dark] .colab-df-quickchart:hover {\n",
              "    background-color: #434B5C;\n",
              "    box-shadow: 0px 1px 3px 1px rgba(0, 0, 0, 0.15);\n",
              "    filter: drop-shadow(0px 1px 2px rgba(0, 0, 0, 0.3));\n",
              "    fill: #FFFFFF;\n",
              "  }\n",
              "</style>\n",
              "\n",
              "    <script>\n",
              "      async function quickchart(key) {\n",
              "        const containerElement = document.querySelector('#' + key);\n",
              "        const charts = await google.colab.kernel.invokeFunction(\n",
              "            'suggestCharts', [key], {});\n",
              "      }\n",
              "    </script>\n",
              "\n",
              "      <script>\n",
              "\n",
              "function displayQuickchartButton(domScope) {\n",
              "  let quickchartButtonEl =\n",
              "    domScope.querySelector('#df-120f8b7e-dc5f-4f2a-8385-ceb5e893c4f0 button.colab-df-quickchart');\n",
              "  quickchartButtonEl.style.display =\n",
              "    google.colab.kernel.accessAllowed ? 'block' : 'none';\n",
              "}\n",
              "\n",
              "        displayQuickchartButton(document);\n",
              "      </script>\n",
              "      <style>\n",
              "    .colab-df-container {\n",
              "      display:flex;\n",
              "      flex-wrap:wrap;\n",
              "      gap: 12px;\n",
              "    }\n",
              "\n",
              "    .colab-df-convert {\n",
              "      background-color: #E8F0FE;\n",
              "      border: none;\n",
              "      border-radius: 50%;\n",
              "      cursor: pointer;\n",
              "      display: none;\n",
              "      fill: #1967D2;\n",
              "      height: 32px;\n",
              "      padding: 0 0 0 0;\n",
              "      width: 32px;\n",
              "    }\n",
              "\n",
              "    .colab-df-convert:hover {\n",
              "      background-color: #E2EBFA;\n",
              "      box-shadow: 0px 1px 2px rgba(60, 64, 67, 0.3), 0px 1px 3px 1px rgba(60, 64, 67, 0.15);\n",
              "      fill: #174EA6;\n",
              "    }\n",
              "\n",
              "    [theme=dark] .colab-df-convert {\n",
              "      background-color: #3B4455;\n",
              "      fill: #D2E3FC;\n",
              "    }\n",
              "\n",
              "    [theme=dark] .colab-df-convert:hover {\n",
              "      background-color: #434B5C;\n",
              "      box-shadow: 0px 1px 3px 1px rgba(0, 0, 0, 0.15);\n",
              "      filter: drop-shadow(0px 1px 2px rgba(0, 0, 0, 0.3));\n",
              "      fill: #FFFFFF;\n",
              "    }\n",
              "  </style>\n",
              "\n",
              "      <script>\n",
              "        const buttonEl =\n",
              "          document.querySelector('#df-905e52dc-cd9b-477d-940f-15e770a4834a button.colab-df-convert');\n",
              "        buttonEl.style.display =\n",
              "          google.colab.kernel.accessAllowed ? 'block' : 'none';\n",
              "\n",
              "        async function convertToInteractive(key) {\n",
              "          const element = document.querySelector('#df-905e52dc-cd9b-477d-940f-15e770a4834a');\n",
              "          const dataTable =\n",
              "            await google.colab.kernel.invokeFunction('convertToInteractive',\n",
              "                                                     [key], {});\n",
              "          if (!dataTable) return;\n",
              "\n",
              "          const docLinkHtml = 'Like what you see? Visit the ' +\n",
              "            '<a target=\"_blank\" href=https://colab.research.google.com/notebooks/data_table.ipynb>data table notebook</a>'\n",
              "            + ' to learn more about interactive tables.';\n",
              "          element.innerHTML = '';\n",
              "          dataTable['output_type'] = 'display_data';\n",
              "          await google.colab.output.renderOutput(dataTable, element);\n",
              "          const docLink = document.createElement('div');\n",
              "          docLink.innerHTML = docLinkHtml;\n",
              "          element.appendChild(docLink);\n",
              "        }\n",
              "      </script>\n",
              "    </div>\n",
              "  </div>\n"
            ]
          },
          "metadata": {}
        },
        {
          "output_type": "stream",
          "name": "stdout",
          "text": [
            "(560000, 3)\n"
          ]
        }
      ]
    },
    {
      "cell_type": "code",
      "source": [
        "# CQT\n",
        "transform = CQT1992v2(sr=2048,        # sample rate\n",
        "                fmin=20,        # min freq\n",
        "                fmax=500,      # max freq\n",
        "                hop_length=64,  # hop length\n",
        "                verbose=False)\n",
        "\n",
        "\n",
        "def preprocess_function_cqt(path):\n",
        "    signal = np.load(path.numpy())\n",
        "    for i in range(signal.shape[0]):\n",
        "        signal[i] /= np.max(signal[i]) # normalize signal\n",
        "\n",
        "    signal = np.hstack(signal) # horizontal stack\n",
        "    signal = torch.from_numpy(signal).float() # tensor conversion\n",
        "    image = transform(signal) # getting the image from CQT transform\n",
        "    image = np.array(image) # converting to array from tensor\n",
        "    image = np.transpose(image,(1,2,0)) # transpose the image to get right orientation\n",
        "    return tf.convert_to_tensor(image)\n"
      ],
      "metadata": {
        "id": "tRIxk5FUPFsA"
      },
      "execution_count": 13,
      "outputs": []
    },
    {
      "cell_type": "code",
      "source": [
        "def preprocess_function_parse_tf(path, y=None):\n",
        "    [x] = tf.py_function(func=preprocess_function_cqt, inp=[path], Tout=[tf.float32])\n",
        "    x = tf.ensure_shape(x, input_shape)\n",
        "    if y is None:\n",
        "        return x\n",
        "    else:\n",
        "        return x,y\n",
        "\n",
        "def get_npy_filepath(id_, is_train=True):\n",
        "    path = ''\n",
        "    if is_train:\n",
        "        return f'/content/g2net-gw/train/{id_[0]}/{id_[1]}/{id_[2]}/{id_}.npy'\n",
        "    else:\n",
        "        return f'/content/g2net-gw/test/{id_[0]}/{id_[1]}/{id_[2]}/{id_}.npy'"
      ],
      "metadata": {
        "id": "bzzH9XI2PtOO"
      },
      "execution_count": 14,
      "outputs": []
    },
    {
      "cell_type": "code",
      "source": [
        "input_shape = (56, 193, 1)\n",
        "batch_size = 250\n",
        "X = df_train['id']\n",
        "y = df_train['target'].astype('int8').values\n",
        "x_train, x_valid, y_train, y_valid = train_test_split(X, y, random_state = 42, stratify = y)"
      ],
      "metadata": {
        "id": "ReehbMc4Pxb6"
      },
      "execution_count": 32,
      "outputs": []
    },
    {
      "cell_type": "code",
      "source": [
        "train_dataset = tf.data.Dataset.from_tensor_slices((x_train.apply(get_npy_filepath).values, y_train))\n",
        "# shuffle the dataset\n",
        "train_dataset = train_dataset.shuffle(len(x_train))\n",
        "train_dataset = train_dataset.map(preprocess_function_parse_tf, num_parallel_calls=tf.data.AUTOTUNE)\n",
        "train_dataset = train_dataset.batch(batch_size)\n",
        "train_dataset = train_dataset.prefetch(tf.data.AUTOTUNE)\n",
        "\n",
        "valid_dataset = tf.data.Dataset.from_tensor_slices((x_valid.apply(get_npy_filepath).values, y_valid))\n",
        "valid_dataset = valid_dataset.map(preprocess_function_parse_tf, num_parallel_calls=tf.data.AUTOTUNE)\n",
        "valid_dataset = valid_dataset.batch(batch_size)\n",
        "valid_dataset = valid_dataset.prefetch(tf.data.AUTOTUNE)"
      ],
      "metadata": {
        "id": "Ezc55TpbP11k"
      },
      "execution_count": 33,
      "outputs": []
    },
    {
      "cell_type": "code",
      "source": [
        "from tensorflow.keras.models import Sequential\n",
        "from tensorflow.keras.layers import Flatten, Dense, BatchNormalization, Dropout\n",
        "from tensorflow.keras.optimizers import Adam\n",
        "from tensorflow.keras.callbacks import EarlyStopping\n",
        "from tensorflow.keras.metrics import AUC\n",
        "from tensorflow.keras.regularizers import l1_l2\n",
        "\n",
        "def add_dense_block(units, model, layer_name, reg_strength=0.01, dropout_rate=0.5):\n",
        "    model.add(Dense(units=units, activation='relu',\n",
        "                    kernel_regularizer=l1_l2(l1=reg_strength, l2=reg_strength),\n",
        "                    name=layer_name))\n",
        "    model.add(BatchNormalization())\n",
        "    model.add(Dropout(dropout_rate))\n",
        "\n",
        "# Instantiate the Sequential model\n",
        "model_dnn = Sequential(name='DNN_model2')\n",
        "\n",
        "# Add the Flatten layer to input 2D data\n",
        "model_dnn.add(Flatten(input_shape=input_shape, name='Flatten'))\n",
        "\n",
        "# Add Dense layers with Batch Normalization and Dropout\n",
        "add_dense_block(512, model_dnn, 'Dense_01')\n",
        "add_dense_block(256, model_dnn, 'Dense_02')\n",
        "add_dense_block(128, model_dnn, 'Dense_03')\n",
        "add_dense_block(64, model_dnn, 'Dense_04')\n",
        "\n",
        "# Add the final Output layer\n",
        "model_dnn.add(Dense(1, activation='sigmoid', name='Output'))\n",
        "\n",
        "# Compile the model\n",
        "model_dnn.compile(optimizer=Adam(learning_rate=0.0001),\n",
        "                  loss='binary_crossentropy',\n",
        "                  metrics=[[AUC(), 'accuracy']])\n",
        "\n",
        "# Define early stopping\n",
        "early_stopping = EarlyStopping(monitor='val_loss', patience=10)\n",
        "\n",
        "# Fit the model\n",
        "history_dnn = model_dnn.fit(x=train_dataset,\n",
        "                            epochs=5,\n",
        "                            validation_data=valid_dataset,\n",
        "                            batch_size=batch_size,\n",
        "                            callbacks=[early_stopping],\n",
        "                            verbose=1)\n"
      ],
      "metadata": {
        "colab": {
          "base_uri": "https://localhost:8080/"
        },
        "id": "bHwz6y3oiV0-",
        "outputId": "2f6945e0-a174-45b6-e932-13b138d68e4d"
      },
      "execution_count": 23,
      "outputs": [
        {
          "output_type": "stream",
          "name": "stdout",
          "text": [
            "Epoch 1/5\n",
            "23/23 [==============================] - 2870s 130s/step - loss: 682.2528 - auc_1: 0.4957 - accuracy: 0.5009 - val_loss: 618.6062 - val_auc_1: 0.4919 - val_accuracy: 0.4999\n",
            "Epoch 2/5\n",
            "23/23 [==============================] - 2932s 133s/step - loss: 567.5285 - auc_1: 0.5092 - accuracy: 0.5082 - val_loss: 510.3622 - val_auc_1: 0.4965 - val_accuracy: 0.4999\n",
            "Epoch 3/5\n",
            "23/23 [==============================] - 2872s 130s/step - loss: 464.8964 - auc_1: 0.4995 - accuracy: 0.4991 - val_loss: 414.2342 - val_auc_1: 0.5002 - val_accuracy: 0.4999\n",
            "Epoch 4/5\n",
            "23/23 [==============================] - 2854s 130s/step - loss: 374.4113 - auc_1: 0.5027 - accuracy: 0.5063 - val_loss: 330.3162 - val_auc_1: 0.4970 - val_accuracy: 0.4999\n",
            "Epoch 5/5\n",
            "23/23 [==============================] - 2918s 133s/step - loss: 296.0862 - auc_1: 0.5098 - accuracy: 0.5130 - val_loss: 258.4658 - val_auc_1: 0.4964 - val_accuracy: 0.4999\n"
          ]
        }
      ]
    },
    {
      "cell_type": "code",
      "source": [
        "import matplotlib.pyplot as plt\n",
        "\n",
        "# Plot training & validation accuracy values\n",
        "plt.plot(history_dnn.history['accuracy'])\n",
        "plt.plot(history_dnn.history['val_accuracy'])\n",
        "plt.title('Model accuracy')\n",
        "plt.ylabel('Accuracy')\n",
        "plt.xlabel('Epoch')\n",
        "plt.legend(['Train', 'Validation'], loc='upper left')\n",
        "plt.show()\n"
      ],
      "metadata": {
        "colab": {
          "base_uri": "https://localhost:8080/",
          "height": 472
        },
        "id": "BXTdX3Yi1u3u",
        "outputId": "4db42e97-c161-4fa8-8094-471f2d5919f3"
      },
      "execution_count": 25,
      "outputs": [
        {
          "output_type": "display_data",
          "data": {
            "text/plain": [
              "<Figure size 640x480 with 1 Axes>"
            ],
            "image/png": "[encoded data removed]"
          },
          "metadata": {}
        }
      ]
    },
    {
      "cell_type": "code",
      "source": [
        "from tensorflow.keras.models import Sequential\n",
        "from tensorflow.keras.layers import Flatten, Dense, BatchNormalization, Dropout\n",
        "from tensorflow.keras.optimizers import Adam\n",
        "from tensorflow.keras.callbacks import EarlyStopping\n",
        "from tensorflow.keras.metrics import AUC\n",
        "from tensorflow.keras.regularizers import l1_l2\n",
        "\n",
        "def add_dense_block(units, model, layer_name, reg_strength=0.01, dropout_rate=0.5):\n",
        "    model.add(Dense(units=units, activation='relu',\n",
        "                    kernel_regularizer=l1_l2(l1=reg_strength, l2=reg_strength),\n",
        "                    name=layer_name))\n",
        "    model.add(BatchNormalization())\n",
        "    model.add(Dropout(dropout_rate))\n",
        "\n",
        "# Instantiate the Sequential model\n",
        "model_dnn = Sequential(name='DNN_model2')\n",
        "\n",
        "# Add the Flatten layer to input 2D data\n",
        "model_dnn.add(Flatten(input_shape=input_shape, name='Flatten'))\n",
        "\n",
        "# Add Dense layers with Batch Normalization and Dropout\n",
        "add_dense_block(512, model_dnn, 'Dense_01')\n",
        "add_dense_block(256, model_dnn, 'Dense_02')\n",
        "add_dense_block(128, model_dnn, 'Dense_03')\n",
        "add_dense_block(64, model_dnn, 'Dense_04')\n",
        "\n",
        "# Add the final Output layer\n",
        "model_dnn.add(Dense(1, activation='sigmoid', name='Output'))\n",
        "\n",
        "# Compile the model\n",
        "model_dnn.compile(optimizer=Adam(learning_rate=0.01),\n",
        "                  loss='binary_crossentropy',\n",
        "                  metrics=[[AUC(), 'accuracy']])\n",
        "\n",
        "# Define early stopping\n",
        "early_stopping = EarlyStopping(monitor='val_loss', patience=10)\n",
        "\n",
        "# Fit the model\n",
        "history_dnn = model_dnn.fit(x=train_dataset,\n",
        "                            epochs=10,\n",
        "                            validation_data=valid_dataset,\n",
        "                            batch_size=batch_size,\n",
        "                            callbacks=[early_stopping],\n",
        "                            verbose=1)\n"
      ],
      "metadata": {
        "colab": {
          "base_uri": "https://localhost:8080/"
        },
        "id": "iPFUEz0a2OEW",
        "outputId": "04ff46e3-fec6-436c-a40d-de433d48696f"
      },
      "execution_count": 26,
      "outputs": [
        {
          "output_type": "stream",
          "name": "stdout",
          "text": [
            "Epoch 1/10\n",
            "23/23 [==============================] - 2789s 126s/step - loss: 246.0353 - auc_2: 0.4915 - accuracy: 0.4959 - val_loss: 123.7755 - val_auc_2: 0.4997 - val_accuracy: 0.5001\n",
            "Epoch 2/10\n",
            "23/23 [==============================] - 2811s 128s/step - loss: 96.9653 - auc_2: 0.4874 - accuracy: 0.4875 - val_loss: 87.3787 - val_auc_2: 0.5000 - val_accuracy: 0.4999\n",
            "Epoch 3/10\n",
            "23/23 [==============================] - 2834s 129s/step - loss: 79.8105 - auc_2: 0.5005 - accuracy: 0.5055 - val_loss: 76.8571 - val_auc_2: 0.5000 - val_accuracy: 0.5001\n",
            "Epoch 4/10\n",
            "23/23 [==============================] - 2811s 128s/step - loss: 75.9111 - auc_2: 0.4968 - accuracy: 0.4950 - val_loss: 75.0711 - val_auc_2: 0.5000 - val_accuracy: 0.4999\n",
            "Epoch 5/10\n",
            "23/23 [==============================] - 2822s 128s/step - loss: 74.1255 - auc_2: 0.4950 - accuracy: 0.4957 - val_loss: 70.7184 - val_auc_2: 0.5000 - val_accuracy: 0.5001\n",
            "Epoch 6/10\n",
            "23/23 [==============================] - 2936s 133s/step - loss: 73.0721 - auc_2: 0.5042 - accuracy: 0.5046 - val_loss: 70.0623 - val_auc_2: 0.5000 - val_accuracy: 0.4999\n",
            "Epoch 7/10\n",
            "23/23 [==============================] - 2881s 131s/step - loss: 72.6304 - auc_2: 0.4916 - accuracy: 0.4920 - val_loss: 71.4557 - val_auc_2: 0.5000 - val_accuracy: 0.5001\n",
            "Epoch 8/10\n",
            "23/23 [==============================] - 2915s 132s/step - loss: 71.8939 - auc_2: 0.4996 - accuracy: 0.5052 - val_loss: 76.9281 - val_auc_2: 0.5000 - val_accuracy: 0.4999\n",
            "Epoch 9/10\n",
            "23/23 [==============================] - 2924s 133s/step - loss: 71.7211 - auc_2: 0.5090 - accuracy: 0.5080 - val_loss: 73.6321 - val_auc_2: 0.5000 - val_accuracy: 0.4999\n",
            "Epoch 10/10\n",
            "23/23 [==============================] - 2964s 135s/step - loss: 72.2795 - auc_2: 0.5013 - accuracy: 0.4989 - val_loss: 72.1033 - val_auc_2: 0.5000 - val_accuracy: 0.4999\n"
          ]
        }
      ]
    },
    {
      "cell_type": "code",
      "source": [
        "model_dnn.summary()"
      ],
      "metadata": {
        "colab": {
          "base_uri": "https://localhost:8080/"
        },
        "id": "2cYIid6bHe8c",
        "outputId": "2dd2da3b-e56e-4b81-c488-84e6f6964de2"
      },
      "execution_count": 30,
      "outputs": [
        {
          "output_type": "stream",
          "name": "stdout",
          "text": [
            "Model: \"DNN_model2\"\n",
            "_________________________________________________________________\n",
            " Layer (type)                Output Shape              Param #   \n",
            "=================================================================\n",
            " Flatten (Flatten)           (None, 10808)             0         \n",
            "                                                                 \n",
            " Dense_01 (Dense)            (None, 512)               5534208   \n",
            "                                                                 \n",
            " batch_normalization_8 (Batc  (None, 512)              2048      \n",
            " hNormalization)                                                 \n",
            "                                                                 \n",
            " dropout_8 (Dropout)         (None, 512)               0         \n",
            "                                                                 \n",
            " Dense_02 (Dense)            (None, 256)               131328    \n",
            "                                                                 \n",
            " batch_normalization_9 (Batc  (None, 256)              1024      \n",
            " hNormalization)                                                 \n",
            "                                                                 \n",
            " dropout_9 (Dropout)         (None, 256)               0         \n",
            "                                                                 \n",
            " Dense_03 (Dense)            (None, 128)               32896     \n",
            "                                                                 \n",
            " batch_normalization_10 (Bat  (None, 128)              512       \n",
            " chNormalization)                                                \n",
            "                                                                 \n",
            " dropout_10 (Dropout)        (None, 128)               0         \n",
            "                                                                 \n",
            " Dense_04 (Dense)            (None, 64)                8256      \n",
            "                                                                 \n",
            " batch_normalization_11 (Bat  (None, 64)               256       \n",
            " chNormalization)                                                \n",
            "                                                                 \n",
            " dropout_11 (Dropout)        (None, 64)                0         \n",
            "                                                                 \n",
            " Output (Dense)              (None, 1)                 65        \n",
            "                                                                 \n",
            "=================================================================\n",
            "Total params: 5,710,593\n",
            "Trainable params: 5,708,673\n",
            "Non-trainable params: 1,920\n",
            "_________________________________________________________________\n"
          ]
        }
      ]
    },
    {
      "cell_type": "code",
      "source": [
        "import matplotlib.pyplot as plt\n",
        "\n",
        "# Plot training & validation accuracy values\n",
        "plt.plot(history_dnn.history['accuracy'])\n",
        "plt.plot(history_dnn.history['val_accuracy'])\n",
        "plt.title('Model accuracy')\n",
        "plt.ylabel('Accuracy')\n",
        "plt.xlabel('Epoch')\n",
        "plt.legend(['Train', 'Validation'], loc='upper left')\n",
        "plt.show()\n"
      ],
      "metadata": {
        "colab": {
          "base_uri": "https://localhost:8080/",
          "height": 472
        },
        "id": "nJdhOXwU2OGF",
        "outputId": "5704e1b9-99e1-4080-8889-b61fef92c09f"
      },
      "execution_count": 28,
      "outputs": [
        {
          "output_type": "display_data",
          "data": {
            "text/plain": [
              "<Figure size 640x480 with 1 Axes>"
            ],
            "image/png": "[encoded data removed]"
          },
          "metadata": {}
        }
      ]
    },
    {
      "cell_type": "code",
      "source": [],
      "metadata": {
        "id": "5n7KcU04JmaL"
      },
      "execution_count": null,
      "outputs": []
    }
  ]
}