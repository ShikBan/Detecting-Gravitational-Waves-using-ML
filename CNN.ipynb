{
  "nbformat": 4,
  "nbformat_minor": 0,
  "metadata": {
    "colab": {
      "provenance": [],
      "machine_shape": "hm",
      "gpuType": "A100"
    },
    "kernelspec": {
      "name": "python3",
      "display_name": "Python 3"
    },
    "language_info": {
      "name": "python"
    }
  },
  "cells": [
    {
      "cell_type": "code",
      "execution_count": 1,
      "metadata": {
        "id": "NHdfXb5u9DAA",
        "colab": {
          "base_uri": "https://localhost:8080/"
        },
        "outputId": "579ee885-ba32-4c25-bc3e-8789d09bb6fc"
      },
      "outputs": [
        {
          "output_type": "stream",
          "name": "stdout",
          "text": [
            "Requirement already satisfied: kaggle in /usr/local/lib/python3.10/dist-packages (1.5.15)\n",
            "Requirement already satisfied: six>=1.10 in /usr/local/lib/python3.10/dist-packages (from kaggle) (1.16.0)\n",
            "Requirement already satisfied: certifi in /usr/local/lib/python3.10/dist-packages (from kaggle) (2023.5.7)\n",
            "Requirement already satisfied: python-dateutil in /usr/local/lib/python3.10/dist-packages (from kaggle) (2.8.2)\n",
            "Requirement already satisfied: requests in /usr/local/lib/python3.10/dist-packages (from kaggle) (2.27.1)\n",
            "Requirement already satisfied: tqdm in /usr/local/lib/python3.10/dist-packages (from kaggle) (4.65.0)\n",
            "Requirement already satisfied: python-slugify in /usr/local/lib/python3.10/dist-packages (from kaggle) (8.0.1)\n",
            "Requirement already satisfied: urllib3 in /usr/local/lib/python3.10/dist-packages (from kaggle) (1.26.16)\n",
            "Requirement already satisfied: bleach in /usr/local/lib/python3.10/dist-packages (from kaggle) (6.0.0)\n",
            "Requirement already satisfied: webencodings in /usr/local/lib/python3.10/dist-packages (from bleach->kaggle) (0.5.1)\n",
            "Requirement already satisfied: text-unidecode>=1.3 in /usr/local/lib/python3.10/dist-packages (from python-slugify->kaggle) (1.3)\n",
            "Requirement already satisfied: charset-normalizer~=2.0.0 in /usr/local/lib/python3.10/dist-packages (from requests->kaggle) (2.0.12)\n",
            "Requirement already satisfied: idna<4,>=2.5 in /usr/local/lib/python3.10/dist-packages (from requests->kaggle) (3.4)\n"
          ]
        }
      ],
      "source": [
        "!pip install kaggle"
      ]
    },
    {
      "cell_type": "code",
      "source": [
        "! mkdir ~/.kaggle"
      ],
      "metadata": {
        "id": "cCpgBbU59Qmj"
      },
      "execution_count": 2,
      "outputs": []
    },
    {
      "cell_type": "code",
      "source": [
        "! cp kaggle.json ~/.kaggle/"
      ],
      "metadata": {
        "id": "SX7q8e6y9tMv"
      },
      "execution_count": 3,
      "outputs": []
    },
    {
      "cell_type": "code",
      "source": [
        "! chmod 600 ~/.kaggle/kaggle.json"
      ],
      "metadata": {
        "id": "UyWE5Amh9WUa"
      },
      "execution_count": 4,
      "outputs": []
    },
    {
      "cell_type": "code",
      "source": [
        "! kaggle competitions download g2net-gravitational-wave-detection"
      ],
      "metadata": {
        "colab": {
          "base_uri": "https://localhost:8080/"
        },
        "id": "9lMqStOO9Y1i",
        "outputId": "8fcd8fe5-7b6e-446b-888f-4d02e743d05f"
      },
      "execution_count": 5,
      "outputs": [
        {
          "output_type": "stream",
          "name": "stdout",
          "text": [
            "Downloading g2net-gravitational-wave-detection.zip to /content\n",
            "100% 69.0G/69.0G [36:53<00:00, 42.9MB/s]\n",
            "100% 69.0G/69.0G [36:53<00:00, 33.5MB/s]\n"
          ]
        }
      ]
    },
    {
      "cell_type": "code",
      "source": [
        "! mkdir g2net-gw"
      ],
      "metadata": {
        "id": "_BJlkv9r9yiF"
      },
      "execution_count": 6,
      "outputs": []
    },
    {
      "cell_type": "code",
      "source": [
        "! unzip g2net-gravitational-wave-detection.zip -d g2net-gw"
      ],
      "metadata": {
        "id": "-2XcDtezHiZX"
      },
      "execution_count": null,
      "outputs": []
    },
    {
      "cell_type": "code",
      "source": [
        "!pip install nnAudio"
      ],
      "metadata": {
        "id": "zj-NWq7ZHn5C",
        "colab": {
          "base_uri": "https://localhost:8080/"
        },
        "outputId": "5ac71f2c-cfcf-4788-e13d-7a2feb39ad83"
      },
      "execution_count": 8,
      "outputs": [
        {
          "output_type": "stream",
          "name": "stdout",
          "text": [
            "Collecting nnAudio\n",
            "  Downloading nnAudio-0.3.2-py3-none-any.whl (43 kB)\n",
            "\u001b[?25l     \u001b[90m━━━━━━━━━━━━━━━━━━━━━━━━━━━━━━━━━━━━━━━━\u001b[0m \u001b[32m0.0/43.3 kB\u001b[0m \u001b[31m?\u001b[0m eta \u001b[36m-:--:--\u001b[0m\r\u001b[2K     \u001b[90m━━━━━━━━━━━━━━━━━━━━━━━━━━━━━━━━━━━━━━━━\u001b[0m \u001b[32m43.3/43.3 kB\u001b[0m \u001b[31m3.1 MB/s\u001b[0m eta \u001b[36m0:00:00\u001b[0m\n",
            "\u001b[?25hRequirement already satisfied: scipy in /usr/local/lib/python3.10/dist-packages (from nnAudio) (1.10.1)\n",
            "Requirement already satisfied: numpy<1.27.0,>=1.19.5 in /usr/local/lib/python3.10/dist-packages (from scipy->nnAudio) (1.22.4)\n",
            "Installing collected packages: nnAudio\n",
            "Successfully installed nnAudio-0.3.2\n"
          ]
        }
      ]
    },
    {
      "cell_type": "code",
      "source": [
        "import warnings\n",
        "warnings.filterwarnings('ignore')\n",
        "\n",
        "import numpy as np\n",
        "import pandas as pd\n",
        "import matplotlib.pylab as plt\n",
        "import seaborn as sns\n",
        "from glob import glob\n",
        "from tqdm import tqdm\n",
        "from sklearn.model_selection import train_test_split\n",
        "\n",
        "import tensorflow as tf\n",
        "from tensorflow.keras.models import Sequential\n",
        "from tensorflow.keras.optimizers import Adam\n",
        "from tensorflow.keras.layers import Dense\n",
        "from tensorflow.keras.layers import Conv2D\n",
        "from tensorflow.keras.layers import MaxPooling2D\n",
        "from tensorflow.keras.layers import GlobalAveragePooling2D\n",
        "from tensorflow.keras.layers import Flatten\n",
        "from tensorflow.keras.applications import EfficientNetB0\n",
        "from tensorflow.keras.metrics import AUC\n",
        "\n",
        "import librosa.display\n",
        "import torch\n",
        "\n",
        "# this is used for Contant Q Transform\n",
        "from nnAudio.Spectrogram import CQT1992v2\n",
        "from tensorflow.keras.applications import EfficientNetB0 as efn"
      ],
      "metadata": {
        "id": "4BbmLvdXMuLF"
      },
      "execution_count": 9,
      "outputs": []
    },
    {
      "cell_type": "code",
      "source": [
        "train_labels = pd.read_csv(\"/content/g2net-gw/training_labels.csv\")\n",
        "train_labels.head()"
      ],
      "metadata": {
        "id": "KgqsOisrNCF_",
        "colab": {
          "base_uri": "https://localhost:8080/",
          "height": 206
        },
        "outputId": "89bbd293-3f1c-466e-f60c-84da6e1ba958"
      },
      "execution_count": 10,
      "outputs": [
        {
          "output_type": "execute_result",
          "data": {
            "text/plain": [
              "           id  target\n",
              "0  00000e74ad       1\n",
              "1  00001f4945       0\n",
              "2  0000661522       0\n",
              "3  00007a006a       0\n",
              "4  0000a38978       1"
            ],
            "text/html": [
              "\n",
              "\n",
              "  <div id=\"df-d60041c6-464f-468e-9fc6-7fcf1872f404\">\n",
              "    <div class=\"colab-df-container\">\n",
              "      <div>\n",
              "<style scoped>\n",
              "    .dataframe tbody tr th:only-of-type {\n",
              "        vertical-align: middle;\n",
              "    }\n",
              "\n",
              "    .dataframe tbody tr th {\n",
              "        vertical-align: top;\n",
              "    }\n",
              "\n",
              "    .dataframe thead th {\n",
              "        text-align: right;\n",
              "    }\n",
              "</style>\n",
              "<table border=\"1\" class=\"dataframe\">\n",
              "  <thead>\n",
              "    <tr style=\"text-align: right;\">\n",
              "      <th></th>\n",
              "      <th>id</th>\n",
              "      <th>target</th>\n",
              "    </tr>\n",
              "  </thead>\n",
              "  <tbody>\n",
              "    <tr>\n",
              "      <th>0</th>\n",
              "      <td>00000e74ad</td>\n",
              "      <td>1</td>\n",
              "    </tr>\n",
              "    <tr>\n",
              "      <th>1</th>\n",
              "      <td>00001f4945</td>\n",
              "      <td>0</td>\n",
              "    </tr>\n",
              "    <tr>\n",
              "      <th>2</th>\n",
              "      <td>0000661522</td>\n",
              "      <td>0</td>\n",
              "    </tr>\n",
              "    <tr>\n",
              "      <th>3</th>\n",
              "      <td>00007a006a</td>\n",
              "      <td>0</td>\n",
              "    </tr>\n",
              "    <tr>\n",
              "      <th>4</th>\n",
              "      <td>0000a38978</td>\n",
              "      <td>1</td>\n",
              "    </tr>\n",
              "  </tbody>\n",
              "</table>\n",
              "</div>\n",
              "      <button class=\"colab-df-convert\" onclick=\"convertToInteractive('df-d60041c6-464f-468e-9fc6-7fcf1872f404')\"\n",
              "              title=\"Convert this dataframe to an interactive table.\"\n",
              "              style=\"display:none;\">\n",
              "\n",
              "  <svg xmlns=\"http://www.w3.org/2000/svg\" height=\"24px\"viewBox=\"0 0 24 24\"\n",
              "       width=\"24px\">\n",
              "    <path d=\"M0 0h24v24H0V0z\" fill=\"none\"/>\n",
              "    <path d=\"M18.56 5.44l.94 2.06.94-2.06 2.06-.94-2.06-.94-.94-2.06-.94 2.06-2.06.94zm-11 1L8.5 8.5l.94-2.06 2.06-.94-2.06-.94L8.5 2.5l-.94 2.06-2.06.94zm10 10l.94 2.06.94-2.06 2.06-.94-2.06-.94-.94-2.06-.94 2.06-2.06.94z\"/><path d=\"M17.41 7.96l-1.37-1.37c-.4-.4-.92-.59-1.43-.59-.52 0-1.04.2-1.43.59L10.3 9.45l-7.72 7.72c-.78.78-.78 2.05 0 2.83L4 21.41c.39.39.9.59 1.41.59.51 0 1.02-.2 1.41-.59l7.78-7.78 2.81-2.81c.8-.78.8-2.07 0-2.86zM5.41 20L4 18.59l7.72-7.72 1.47 1.35L5.41 20z\"/>\n",
              "  </svg>\n",
              "      </button>\n",
              "\n",
              "\n",
              "\n",
              "    <div id=\"df-d12b9b1a-a6f7-4ec4-8400-84bc988c4853\">\n",
              "      <button class=\"colab-df-quickchart\" onclick=\"quickchart('df-d12b9b1a-a6f7-4ec4-8400-84bc988c4853')\"\n",
              "              title=\"Suggest charts.\"\n",
              "              style=\"display:none;\">\n",
              "\n",
              "<svg xmlns=\"http://www.w3.org/2000/svg\" height=\"24px\"viewBox=\"0 0 24 24\"\n",
              "     width=\"24px\">\n",
              "    <g>\n",
              "        <path d=\"M19 3H5c-1.1 0-2 .9-2 2v14c0 1.1.9 2 2 2h14c1.1 0 2-.9 2-2V5c0-1.1-.9-2-2-2zM9 17H7v-7h2v7zm4 0h-2V7h2v10zm4 0h-2v-4h2v4z\"/>\n",
              "    </g>\n",
              "</svg>\n",
              "      </button>\n",
              "    </div>\n",
              "\n",
              "<style>\n",
              "  .colab-df-quickchart {\n",
              "    background-color: #E8F0FE;\n",
              "    border: none;\n",
              "    border-radius: 50%;\n",
              "    cursor: pointer;\n",
              "    display: none;\n",
              "    fill: #1967D2;\n",
              "    height: 32px;\n",
              "    padding: 0 0 0 0;\n",
              "    width: 32px;\n",
              "  }\n",
              "\n",
              "  .colab-df-quickchart:hover {\n",
              "    background-color: #E2EBFA;\n",
              "    box-shadow: 0px 1px 2px rgba(60, 64, 67, 0.3), 0px 1px 3px 1px rgba(60, 64, 67, 0.15);\n",
              "    fill: #174EA6;\n",
              "  }\n",
              "\n",
              "  [theme=dark] .colab-df-quickchart {\n",
              "    background-color: #3B4455;\n",
              "    fill: #D2E3FC;\n",
              "  }\n",
              "\n",
              "  [theme=dark] .colab-df-quickchart:hover {\n",
              "    background-color: #434B5C;\n",
              "    box-shadow: 0px 1px 3px 1px rgba(0, 0, 0, 0.15);\n",
              "    filter: drop-shadow(0px 1px 2px rgba(0, 0, 0, 0.3));\n",
              "    fill: #FFFFFF;\n",
              "  }\n",
              "</style>\n",
              "\n",
              "    <script>\n",
              "      async function quickchart(key) {\n",
              "        const containerElement = document.querySelector('#' + key);\n",
              "        const charts = await google.colab.kernel.invokeFunction(\n",
              "            'suggestCharts', [key], {});\n",
              "      }\n",
              "    </script>\n",
              "\n",
              "      <script>\n",
              "\n",
              "function displayQuickchartButton(domScope) {\n",
              "  let quickchartButtonEl =\n",
              "    domScope.querySelector('#df-d12b9b1a-a6f7-4ec4-8400-84bc988c4853 button.colab-df-quickchart');\n",
              "  quickchartButtonEl.style.display =\n",
              "    google.colab.kernel.accessAllowed ? 'block' : 'none';\n",
              "}\n",
              "\n",
              "        displayQuickchartButton(document);\n",
              "      </script>\n",
              "      <style>\n",
              "    .colab-df-container {\n",
              "      display:flex;\n",
              "      flex-wrap:wrap;\n",
              "      gap: 12px;\n",
              "    }\n",
              "\n",
              "    .colab-df-convert {\n",
              "      background-color: #E8F0FE;\n",
              "      border: none;\n",
              "      border-radius: 50%;\n",
              "      cursor: pointer;\n",
              "      display: none;\n",
              "      fill: #1967D2;\n",
              "      height: 32px;\n",
              "      padding: 0 0 0 0;\n",
              "      width: 32px;\n",
              "    }\n",
              "\n",
              "    .colab-df-convert:hover {\n",
              "      background-color: #E2EBFA;\n",
              "      box-shadow: 0px 1px 2px rgba(60, 64, 67, 0.3), 0px 1px 3px 1px rgba(60, 64, 67, 0.15);\n",
              "      fill: #174EA6;\n",
              "    }\n",
              "\n",
              "    [theme=dark] .colab-df-convert {\n",
              "      background-color: #3B4455;\n",
              "      fill: #D2E3FC;\n",
              "    }\n",
              "\n",
              "    [theme=dark] .colab-df-convert:hover {\n",
              "      background-color: #434B5C;\n",
              "      box-shadow: 0px 1px 3px 1px rgba(0, 0, 0, 0.15);\n",
              "      filter: drop-shadow(0px 1px 2px rgba(0, 0, 0, 0.3));\n",
              "      fill: #FFFFFF;\n",
              "    }\n",
              "  </style>\n",
              "\n",
              "      <script>\n",
              "        const buttonEl =\n",
              "          document.querySelector('#df-d60041c6-464f-468e-9fc6-7fcf1872f404 button.colab-df-convert');\n",
              "        buttonEl.style.display =\n",
              "          google.colab.kernel.accessAllowed ? 'block' : 'none';\n",
              "\n",
              "        async function convertToInteractive(key) {\n",
              "          const element = document.querySelector('#df-d60041c6-464f-468e-9fc6-7fcf1872f404');\n",
              "          const dataTable =\n",
              "            await google.colab.kernel.invokeFunction('convertToInteractive',\n",
              "                                                     [key], {});\n",
              "          if (!dataTable) return;\n",
              "\n",
              "          const docLinkHtml = 'Like what you see? Visit the ' +\n",
              "            '<a target=\"_blank\" href=https://colab.research.google.com/notebooks/data_table.ipynb>data table notebook</a>'\n",
              "            + ' to learn more about interactive tables.';\n",
              "          element.innerHTML = '';\n",
              "          dataTable['output_type'] = 'display_data';\n",
              "          await google.colab.output.renderOutput(dataTable, element);\n",
              "          const docLink = document.createElement('div');\n",
              "          docLink.innerHTML = docLinkHtml;\n",
              "          element.appendChild(docLink);\n",
              "        }\n",
              "      </script>\n",
              "    </div>\n",
              "  </div>\n"
            ]
          },
          "metadata": {},
          "execution_count": 10
        }
      ]
    },
    {
      "cell_type": "code",
      "source": [
        "train_path = glob(\"/content/g2net-gw/train/*/*/*/*\")"
      ],
      "metadata": {
        "id": "u1p5XMSbNRQq"
      },
      "execution_count": 11,
      "outputs": []
    },
    {
      "cell_type": "code",
      "source": [
        "# get the list of ids from the .npy files\n",
        "ids_from_npy_files = [path.split(\"/\")[-1].split(\".\")[0] for path in train_path]\n",
        "\n",
        "# get a dataframe with paths and ids of those .npy files\n",
        "df_path_id = pd.DataFrame({'path': train_path, 'id':ids_from_npy_files})\n",
        "\n",
        "# merging that above df with the target\n",
        "df_train = pd.merge(left=train_labels, right=df_path_id, on='id')\n",
        "display(df_train.head())\n",
        "\n",
        "# verifying the shape of the merged df has 5,60,000 rows and 3 columns\n",
        "print(df_train.shape)\n"
      ],
      "metadata": {
        "id": "8bubVV2lNlYQ",
        "colab": {
          "base_uri": "https://localhost:8080/",
          "height": 224
        },
        "outputId": "3d73d294-9af3-40e3-f2ea-16f26fc92f4f"
      },
      "execution_count": 12,
      "outputs": [
        {
          "output_type": "display_data",
          "data": {
            "text/plain": [
              "           id  target                                          path\n",
              "0  00000e74ad       1  /content/g2net-gw/train/0/0/0/00000e74ad.npy\n",
              "1  00001f4945       0  /content/g2net-gw/train/0/0/0/00001f4945.npy\n",
              "2  0000661522       0  /content/g2net-gw/train/0/0/0/0000661522.npy\n",
              "3  00007a006a       0  /content/g2net-gw/train/0/0/0/00007a006a.npy\n",
              "4  0000a38978       1  /content/g2net-gw/train/0/0/0/0000a38978.npy"
            ],
            "text/html": [
              "\n",
              "\n",
              "  <div id=\"df-5f17670b-abf6-429e-8002-f9c48653dd9d\">\n",
              "    <div class=\"colab-df-container\">\n",
              "      <div>\n",
              "<style scoped>\n",
              "    .dataframe tbody tr th:only-of-type {\n",
              "        vertical-align: middle;\n",
              "    }\n",
              "\n",
              "    .dataframe tbody tr th {\n",
              "        vertical-align: top;\n",
              "    }\n",
              "\n",
              "    .dataframe thead th {\n",
              "        text-align: right;\n",
              "    }\n",
              "</style>\n",
              "<table border=\"1\" class=\"dataframe\">\n",
              "  <thead>\n",
              "    <tr style=\"text-align: right;\">\n",
              "      <th></th>\n",
              "      <th>id</th>\n",
              "      <th>target</th>\n",
              "      <th>path</th>\n",
              "    </tr>\n",
              "  </thead>\n",
              "  <tbody>\n",
              "    <tr>\n",
              "      <th>0</th>\n",
              "      <td>00000e74ad</td>\n",
              "      <td>1</td>\n",
              "      <td>/content/g2net-gw/train/0/0/0/00000e74ad.npy</td>\n",
              "    </tr>\n",
              "    <tr>\n",
              "      <th>1</th>\n",
              "      <td>00001f4945</td>\n",
              "      <td>0</td>\n",
              "      <td>/content/g2net-gw/train/0/0/0/00001f4945.npy</td>\n",
              "    </tr>\n",
              "    <tr>\n",
              "      <th>2</th>\n",
              "      <td>0000661522</td>\n",
              "      <td>0</td>\n",
              "      <td>/content/g2net-gw/train/0/0/0/0000661522.npy</td>\n",
              "    </tr>\n",
              "    <tr>\n",
              "      <th>3</th>\n",
              "      <td>00007a006a</td>\n",
              "      <td>0</td>\n",
              "      <td>/content/g2net-gw/train/0/0/0/00007a006a.npy</td>\n",
              "    </tr>\n",
              "    <tr>\n",
              "      <th>4</th>\n",
              "      <td>0000a38978</td>\n",
              "      <td>1</td>\n",
              "      <td>/content/g2net-gw/train/0/0/0/0000a38978.npy</td>\n",
              "    </tr>\n",
              "  </tbody>\n",
              "</table>\n",
              "</div>\n",
              "      <button class=\"colab-df-convert\" onclick=\"convertToInteractive('df-5f17670b-abf6-429e-8002-f9c48653dd9d')\"\n",
              "              title=\"Convert this dataframe to an interactive table.\"\n",
              "              style=\"display:none;\">\n",
              "\n",
              "  <svg xmlns=\"http://www.w3.org/2000/svg\" height=\"24px\"viewBox=\"0 0 24 24\"\n",
              "       width=\"24px\">\n",
              "    <path d=\"M0 0h24v24H0V0z\" fill=\"none\"/>\n",
              "    <path d=\"M18.56 5.44l.94 2.06.94-2.06 2.06-.94-2.06-.94-.94-2.06-.94 2.06-2.06.94zm-11 1L8.5 8.5l.94-2.06 2.06-.94-2.06-.94L8.5 2.5l-.94 2.06-2.06.94zm10 10l.94 2.06.94-2.06 2.06-.94-2.06-.94-.94-2.06-.94 2.06-2.06.94z\"/><path d=\"M17.41 7.96l-1.37-1.37c-.4-.4-.92-.59-1.43-.59-.52 0-1.04.2-1.43.59L10.3 9.45l-7.72 7.72c-.78.78-.78 2.05 0 2.83L4 21.41c.39.39.9.59 1.41.59.51 0 1.02-.2 1.41-.59l7.78-7.78 2.81-2.81c.8-.78.8-2.07 0-2.86zM5.41 20L4 18.59l7.72-7.72 1.47 1.35L5.41 20z\"/>\n",
              "  </svg>\n",
              "      </button>\n",
              "\n",
              "\n",
              "\n",
              "    <div id=\"df-b823eac3-cdc9-4fe8-af60-e1d0dff2fb6e\">\n",
              "      <button class=\"colab-df-quickchart\" onclick=\"quickchart('df-b823eac3-cdc9-4fe8-af60-e1d0dff2fb6e')\"\n",
              "              title=\"Suggest charts.\"\n",
              "              style=\"display:none;\">\n",
              "\n",
              "<svg xmlns=\"http://www.w3.org/2000/svg\" height=\"24px\"viewBox=\"0 0 24 24\"\n",
              "     width=\"24px\">\n",
              "    <g>\n",
              "        <path d=\"M19 3H5c-1.1 0-2 .9-2 2v14c0 1.1.9 2 2 2h14c1.1 0 2-.9 2-2V5c0-1.1-.9-2-2-2zM9 17H7v-7h2v7zm4 0h-2V7h2v10zm4 0h-2v-4h2v4z\"/>\n",
              "    </g>\n",
              "</svg>\n",
              "      </button>\n",
              "    </div>\n",
              "\n",
              "<style>\n",
              "  .colab-df-quickchart {\n",
              "    background-color: #E8F0FE;\n",
              "    border: none;\n",
              "    border-radius: 50%;\n",
              "    cursor: pointer;\n",
              "    display: none;\n",
              "    fill: #1967D2;\n",
              "    height: 32px;\n",
              "    padding: 0 0 0 0;\n",
              "    width: 32px;\n",
              "  }\n",
              "\n",
              "  .colab-df-quickchart:hover {\n",
              "    background-color: #E2EBFA;\n",
              "    box-shadow: 0px 1px 2px rgba(60, 64, 67, 0.3), 0px 1px 3px 1px rgba(60, 64, 67, 0.15);\n",
              "    fill: #174EA6;\n",
              "  }\n",
              "\n",
              "  [theme=dark] .colab-df-quickchart {\n",
              "    background-color: #3B4455;\n",
              "    fill: #D2E3FC;\n",
              "  }\n",
              "\n",
              "  [theme=dark] .colab-df-quickchart:hover {\n",
              "    background-color: #434B5C;\n",
              "    box-shadow: 0px 1px 3px 1px rgba(0, 0, 0, 0.15);\n",
              "    filter: drop-shadow(0px 1px 2px rgba(0, 0, 0, 0.3));\n",
              "    fill: #FFFFFF;\n",
              "  }\n",
              "</style>\n",
              "\n",
              "    <script>\n",
              "      async function quickchart(key) {\n",
              "        const containerElement = document.querySelector('#' + key);\n",
              "        const charts = await google.colab.kernel.invokeFunction(\n",
              "            'suggestCharts', [key], {});\n",
              "      }\n",
              "    </script>\n",
              "\n",
              "      <script>\n",
              "\n",
              "function displayQuickchartButton(domScope) {\n",
              "  let quickchartButtonEl =\n",
              "    domScope.querySelector('#df-b823eac3-cdc9-4fe8-af60-e1d0dff2fb6e button.colab-df-quickchart');\n",
              "  quickchartButtonEl.style.display =\n",
              "    google.colab.kernel.accessAllowed ? 'block' : 'none';\n",
              "}\n",
              "\n",
              "        displayQuickchartButton(document);\n",
              "      </script>\n",
              "      <style>\n",
              "    .colab-df-container {\n",
              "      display:flex;\n",
              "      flex-wrap:wrap;\n",
              "      gap: 12px;\n",
              "    }\n",
              "\n",
              "    .colab-df-convert {\n",
              "      background-color: #E8F0FE;\n",
              "      border: none;\n",
              "      border-radius: 50%;\n",
              "      cursor: pointer;\n",
              "      display: none;\n",
              "      fill: #1967D2;\n",
              "      height: 32px;\n",
              "      padding: 0 0 0 0;\n",
              "      width: 32px;\n",
              "    }\n",
              "\n",
              "    .colab-df-convert:hover {\n",
              "      background-color: #E2EBFA;\n",
              "      box-shadow: 0px 1px 2px rgba(60, 64, 67, 0.3), 0px 1px 3px 1px rgba(60, 64, 67, 0.15);\n",
              "      fill: #174EA6;\n",
              "    }\n",
              "\n",
              "    [theme=dark] .colab-df-convert {\n",
              "      background-color: #3B4455;\n",
              "      fill: #D2E3FC;\n",
              "    }\n",
              "\n",
              "    [theme=dark] .colab-df-convert:hover {\n",
              "      background-color: #434B5C;\n",
              "      box-shadow: 0px 1px 3px 1px rgba(0, 0, 0, 0.15);\n",
              "      filter: drop-shadow(0px 1px 2px rgba(0, 0, 0, 0.3));\n",
              "      fill: #FFFFFF;\n",
              "    }\n",
              "  </style>\n",
              "\n",
              "      <script>\n",
              "        const buttonEl =\n",
              "          document.querySelector('#df-5f17670b-abf6-429e-8002-f9c48653dd9d button.colab-df-convert');\n",
              "        buttonEl.style.display =\n",
              "          google.colab.kernel.accessAllowed ? 'block' : 'none';\n",
              "\n",
              "        async function convertToInteractive(key) {\n",
              "          const element = document.querySelector('#df-5f17670b-abf6-429e-8002-f9c48653dd9d');\n",
              "          const dataTable =\n",
              "            await google.colab.kernel.invokeFunction('convertToInteractive',\n",
              "                                                     [key], {});\n",
              "          if (!dataTable) return;\n",
              "\n",
              "          const docLinkHtml = 'Like what you see? Visit the ' +\n",
              "            '<a target=\"_blank\" href=https://colab.research.google.com/notebooks/data_table.ipynb>data table notebook</a>'\n",
              "            + ' to learn more about interactive tables.';\n",
              "          element.innerHTML = '';\n",
              "          dataTable['output_type'] = 'display_data';\n",
              "          await google.colab.output.renderOutput(dataTable, element);\n",
              "          const docLink = document.createElement('div');\n",
              "          docLink.innerHTML = docLinkHtml;\n",
              "          element.appendChild(docLink);\n",
              "        }\n",
              "      </script>\n",
              "    </div>\n",
              "  </div>\n"
            ]
          },
          "metadata": {}
        },
        {
          "output_type": "stream",
          "name": "stdout",
          "text": [
            "(560000, 3)\n"
          ]
        }
      ]
    },
    {
      "cell_type": "code",
      "source": [
        "# CQT\n",
        "transform = CQT1992v2(sr=2048,        # sample rate\n",
        "                fmin=20,        # min freq\n",
        "                fmax=500,      # max freq\n",
        "                hop_length=64,  # hop length\n",
        "                verbose=False)\n",
        "\n",
        "def preprocess_function_cqt(path):\n",
        "    signal = np.load(path.numpy())\n",
        "    for i in range(signal.shape[0]):\n",
        "        signal[i] /= np.max(signal[i]) # normalize signal\n",
        "\n",
        "    signal = np.hstack(signal) # horizontal stack\n",
        "    signal = torch.from_numpy(signal).float() # tensor conversion\n",
        "    image = transform(signal) # getting the image from CQT transform\n",
        "    image = np.array(image) # converting to array from tensor\n",
        "    image = np.transpose(image,(1,2,0)) # transpose the image to get right orientation\n",
        "    return tf.convert_to_tensor(image)\n"
      ],
      "metadata": {
        "id": "tRIxk5FUPFsA"
      },
      "execution_count": 16,
      "outputs": []
    },
    {
      "cell_type": "code",
      "source": [
        "def preprocess_function_parse_tf(path, y=None):\n",
        "    [x] = tf.py_function(func=preprocess_function_cqt, inp=[path], Tout=[tf.float32])\n",
        "    x = tf.ensure_shape(x, input_shape)\n",
        "    if y is None:\n",
        "        return x\n",
        "    else:\n",
        "        return x,y\n",
        "\n",
        "def get_npy_filepath(id_, is_train=True):\n",
        "    path = ''\n",
        "    if is_train:\n",
        "        return f'/content/g2net-gw/train/{id_[0]}/{id_[1]}/{id_[2]}/{id_}.npy'\n",
        "    else:\n",
        "        return f'/content/g2net-gw/test/{id_[0]}/{id_[1]}/{id_[2]}/{id_}.npy'"
      ],
      "metadata": {
        "id": "bzzH9XI2PtOO"
      },
      "execution_count": 13,
      "outputs": []
    },
    {
      "cell_type": "code",
      "source": [
        "input_shape = (56, 193, 1)\n",
        "batch_size = 250\n",
        "X = df_train['id']\n",
        "y = df_train['target'].astype('int8').values\n",
        "x_train, x_valid, y_train, y_valid = train_test_split(X, y, random_state = 42, stratify = y)"
      ],
      "metadata": {
        "id": "ReehbMc4Pxb6"
      },
      "execution_count": 14,
      "outputs": []
    },
    {
      "cell_type": "code",
      "source": [
        "train_dataset = tf.data.Dataset.from_tensor_slices((x_train.apply(get_npy_filepath).values, y_train))\n",
        "# shuffle the dataset\n",
        "train_dataset = train_dataset.shuffle(len(x_train))\n",
        "train_dataset = train_dataset.map(preprocess_function_parse_tf, num_parallel_calls=tf.data.AUTOTUNE)\n",
        "train_dataset = train_dataset.batch(batch_size)\n",
        "train_dataset = train_dataset.prefetch(tf.data.AUTOTUNE)\n",
        "\n",
        "valid_dataset = tf.data.Dataset.from_tensor_slices((x_valid.apply(get_npy_filepath).values, y_valid))\n",
        "valid_dataset = valid_dataset.map(preprocess_function_parse_tf, num_parallel_calls=tf.data.AUTOTUNE)\n",
        "valid_dataset = valid_dataset.batch(batch_size)\n",
        "valid_dataset = valid_dataset.prefetch(tf.data.AUTOTUNE)"
      ],
      "metadata": {
        "id": "Ezc55TpbP11k"
      },
      "execution_count": 17,
      "outputs": []
    },
    {
      "cell_type": "code",
      "source": [
        "from keras.layers import Dropout\n",
        "from keras.regularizers import l2\n",
        "from keras.callbacks import EarlyStopping\n",
        "\n",
        "\n",
        "# Instantiate the Sequential model\n",
        "model_cnn = Sequential(name='CNN_model')\n",
        "\n",
        "model_cnn.add(Conv2D(filters=16, kernel_size=3, input_shape=input_shape, activation='relu', name='Conv_01'))\n",
        "model_cnn.add(MaxPooling2D(pool_size=2, name='Pool_01'))\n",
        "model_cnn.add(Dropout(0.5, name='Dropout_01'))\n",
        "model_cnn.add(Conv2D(filters=32, kernel_size=3, kernel_regularizer=l2(0.01), activation='relu', name='Conv_02'))\n",
        "model_cnn.add(MaxPooling2D(pool_size=2, name='Pool_02'))\n",
        "model_cnn.add(Dropout(0.5, name='Dropout_02'))\n",
        "model_cnn.add(Conv2D(filters=64, kernel_size=3, input_shape=input_shape, activation='relu', name='Conv_03'))\n",
        "model_cnn.add(MaxPooling2D(pool_size=2, name='Pool_03'))\n",
        "\n",
        "\n",
        "model_cnn.add(Flatten(name='Flatten'))\n",
        "\n",
        "model_cnn.add(Dense(units=512, activation='relu', name='Dense_01'))\n",
        "model_cnn.add(Dense(units=64, activation='relu', name='Dense_02'))\n",
        "\n",
        "model_cnn.add(Dense(1, activation='sigmoid', name='Output'))\n",
        "\n",
        "model_cnn.summary()\n",
        "\n",
        "early_stopping = EarlyStopping(monitor='val_loss', patience=10)\n",
        "\n",
        "model_cnn.compile(optimizer=Adam(learning_rate=0.0001),\n",
        "                  loss='binary_crossentropy',\n",
        "                  metrics=[[AUC(), 'accuracy']])"
      ],
      "metadata": {
        "id": "Ft9s2_tcP9W-",
        "colab": {
          "base_uri": "https://localhost:8080/"
        },
        "outputId": "559af864-3af6-4236-dbc8-beaa2cd20a70"
      },
      "execution_count": 23,
      "outputs": [
        {
          "output_type": "stream",
          "name": "stdout",
          "text": [
            "Model: \"CNN_model\"\n",
            "_________________________________________________________________\n",
            " Layer (type)                Output Shape              Param #   \n",
            "=================================================================\n",
            " Conv_01 (Conv2D)            (None, 54, 191, 16)       160       \n",
            "                                                                 \n",
            " Pool_01 (MaxPooling2D)      (None, 27, 95, 16)        0         \n",
            "                                                                 \n",
            " Dropout_01 (Dropout)        (None, 27, 95, 16)        0         \n",
            "                                                                 \n",
            " Conv_02 (Conv2D)            (None, 25, 93, 32)        4640      \n",
            "                                                                 \n",
            " Pool_02 (MaxPooling2D)      (None, 12, 46, 32)        0         \n",
            "                                                                 \n",
            " Dropout_02 (Dropout)        (None, 12, 46, 32)        0         \n",
            "                                                                 \n",
            " Conv_03 (Conv2D)            (None, 10, 44, 64)        18496     \n",
            "                                                                 \n",
            " Pool_03 (MaxPooling2D)      (None, 5, 22, 64)         0         \n",
            "                                                                 \n",
            " Flatten (Flatten)           (None, 7040)              0         \n",
            "                                                                 \n",
            " Dense_01 (Dense)            (None, 512)               3604992   \n",
            "                                                                 \n",
            " Dense_02 (Dense)            (None, 64)                32832     \n",
            "                                                                 \n",
            " Output (Dense)              (None, 1)                 65        \n",
            "                                                                 \n",
            "=================================================================\n",
            "Total params: 3,661,185\n",
            "Trainable params: 3,661,185\n",
            "Non-trainable params: 0\n",
            "_________________________________________________________________\n"
          ]
        }
      ]
    },
    {
      "cell_type": "code",
      "source": [
        "history_cnn = model_cnn.fit(x=train_dataset,\n",
        "                            epochs=5,\n",
        "                            validation_data=valid_dataset,\n",
        "                            batch_size=batch_size,\n",
        "                            callbacks=[early_stopping],\n",
        "                            verbose=1)"
      ],
      "metadata": {
        "id": "-ovFO2TSQq7O",
        "colab": {
          "base_uri": "https://localhost:8080/"
        },
        "outputId": "f82ae3b6-b61d-46b5-8de2-371efb5f3f2c"
      },
      "execution_count": 24,
      "outputs": [
        {
          "output_type": "stream",
          "name": "stdout",
          "text": [
            "Epoch 1/5\n",
            "1680/1680 [==============================] - 4804s 3s/step - loss: 0.6243 - auc: 0.7614 - accuracy: 0.6890 - val_loss: 0.5401 - val_auc: 0.8239 - val_accuracy: 0.7334\n",
            "Epoch 2/5\n",
            "1680/1680 [==============================] - 4825s 3s/step - loss: 0.5298 - auc: 0.8011 - accuracy: 0.7301 - val_loss: 0.5584 - val_auc: 0.8267 - val_accuracy: 0.6988\n",
            "Epoch 3/5\n",
            "1680/1680 [==============================] - 5086s 3s/step - loss: 0.5176 - auc: 0.8058 - accuracy: 0.7353 - val_loss: 0.5263 - val_auc: 0.8262 - val_accuracy: 0.7272\n",
            "Epoch 4/5\n",
            "1680/1680 [==============================] - 5047s 3s/step - loss: 0.5109 - auc: 0.8093 - accuracy: 0.7391 - val_loss: 0.5519 - val_auc: 0.8286 - val_accuracy: 0.6999\n",
            "Epoch 5/5\n",
            "1680/1680 [==============================] - 4943s 3s/step - loss: 0.5083 - auc: 0.8105 - accuracy: 0.7402 - val_loss: 0.5625 - val_auc: 0.8293 - val_accuracy: 0.6933\n"
          ]
        }
      ]
    },
    {
      "cell_type": "code",
      "source": [
        "\n",
        "plt.plot(history_cnn.history['accuracy'])\n",
        "plt.plot(history_cnn.history['val_accuracy'])\n",
        "plt.title('Model accuracy')\n",
        "plt.ylabel('Accuracy')\n",
        "plt.xlabel('Epoch')\n",
        "plt.legend(['Train', 'Validation'], loc='upper left')\n",
        "plt.show()\n"
      ],
      "metadata": {
        "id": "llGXmOyfQySt",
        "colab": {
          "base_uri": "https://localhost:8080/",
          "height": 472
        },
        "outputId": "f65414c2-9753-4c37-aba1-abf2627718b8"
      },
      "execution_count": 26,
      "outputs": [
        {
          "output_type": "display_data",
          "data": {
            "text/plain": [
              "<Figure size 640x480 with 1 Axes>"
            ],
            "image/png": "[encoded data removed]"
          },
          "metadata": {}
        }
      ]
    },
    {
      "cell_type": "code",
      "source": [
        "# Save the model\n",
        "model_cnn.save('my_model.h5')  # creates a HDF5 file 'my_model.h5'\n"
      ],
      "metadata": {
        "id": "4g8CGE-eLf8r"
      },
      "execution_count": 28,
      "outputs": []
    },
    {
      "cell_type": "code",
      "source": [
        "from keras.layers import Dropout\n",
        "from keras.regularizers import l2\n",
        "from keras.callbacks import EarlyStopping\n",
        "\n",
        "model_cnn2 = Sequential(name='CNN_model2')\n",
        "\n",
        "model_cnn2.add(Conv2D(filters=32, kernel_size=3, input_shape=input_shape, activation='relu', name='Conv_01'))\n",
        "model_cnn2.add(MaxPooling2D(pool_size=2, name='Pool_01'))\n",
        "model_cnn2.add(Dropout(0.5, name='Dropout_01'))\n",
        "model_cnn2.add(Conv2D(filters=32, kernel_size=3, activation='elu', name='Conv_02'))\n",
        "model_cnn2.add(MaxPooling2D(pool_size=2, name='Pool_02'))\n",
        "model_cnn2.add(Dropout(0.5, name='Dropout_02'))\n",
        "model_cnn2.add(Conv2D(filters=32, kernel_size=3, input_shape=input_shape, activation='elu', name='Conv_03'))\n",
        "model_cnn2.add(MaxPooling2D(pool_size=2, name='Pool_03'))\n",
        "\n",
        "model_cnn2.add(Flatten(name='Flatten'))\n",
        "\n",
        "model_cnn2.add(Dense(units=64, activation='relu', name='Dense_01'))\n",
        "model_cnn2.add(Dense(units=1, activation='relu', name='Dense_02'))\n",
        "\n",
        "model_cnn2.add(Dense(1, activation='sigmoid', name='Output'))\n",
        "\n",
        "model_cnn2.summary()\n",
        "early_stopping = EarlyStopping(monitor='val_loss', patience=10)  # Early stopping\n",
        "model_cnn2.compile(optimizer=Adam(learning_rate=0.001),\n",
        "                  loss='binary_crossentropy',\n",
        "                  metrics=[[AUC(), 'accuracy']])"
      ],
      "metadata": {
        "colab": {
          "base_uri": "https://localhost:8080/"
        },
        "id": "975lAr3YMxz4",
        "outputId": "81e3b1af-91a5-40da-dae4-b7231eaedc9b"
      },
      "execution_count": 30,
      "outputs": [
        {
          "output_type": "stream",
          "name": "stdout",
          "text": [
            "Model: \"CNN_model2\"\n",
            "_________________________________________________________________\n",
            " Layer (type)                Output Shape              Param #   \n",
            "=================================================================\n",
            " Conv_01 (Conv2D)            (None, 54, 191, 32)       320       \n",
            "                                                                 \n",
            " Pool_01 (MaxPooling2D)      (None, 27, 95, 32)        0         \n",
            "                                                                 \n",
            " Dropout_01 (Dropout)        (None, 27, 95, 32)        0         \n",
            "                                                                 \n",
            " Conv_02 (Conv2D)            (None, 25, 93, 32)        9248      \n",
            "                                                                 \n",
            " Pool_02 (MaxPooling2D)      (None, 12, 46, 32)        0         \n",
            "                                                                 \n",
            " Dropout_02 (Dropout)        (None, 12, 46, 32)        0         \n",
            "                                                                 \n",
            " Conv_03 (Conv2D)            (None, 10, 44, 32)        9248      \n",
            "                                                                 \n",
            " Pool_03 (MaxPooling2D)      (None, 5, 22, 32)         0         \n",
            "                                                                 \n",
            " Flatten (Flatten)           (None, 3520)              0         \n",
            "                                                                 \n",
            " Dense_01 (Dense)            (None, 64)                225344    \n",
            "                                                                 \n",
            " Dense_02 (Dense)            (None, 1)                 65        \n",
            "                                                                 \n",
            " Output (Dense)              (None, 1)                 2         \n",
            "                                                                 \n",
            "=================================================================\n",
            "Total params: 244,227\n",
            "Trainable params: 244,227\n",
            "Non-trainable params: 0\n",
            "_________________________________________________________________\n"
          ]
        }
      ]
    },
    {
      "cell_type": "code",
      "source": [
        "history_cnn2 = model_cnn2.fit(x=train_dataset,\n",
        "                            epochs=5,\n",
        "                            validation_data=valid_dataset,\n",
        "                            batch_size=batch_size,\n",
        "                            callbacks=[early_stopping],\n",
        "                            verbose=1)"
      ],
      "metadata": {
        "colab": {
          "base_uri": "https://localhost:8080/"
        },
        "id": "c7Bve_umNV7Q",
        "outputId": "746be501-3c18-4ecc-cf96-0308ca459a55"
      },
      "execution_count": 31,
      "outputs": [
        {
          "output_type": "stream",
          "name": "stdout",
          "text": [
            "Epoch 1/5\n",
            "1680/1680 [==============================] - 5996s 4s/step - loss: 0.6932 - auc_2: 0.4995 - accuracy: 0.5006 - val_loss: 0.6931 - val_auc_2: 0.5000 - val_accuracy: 0.5001\n",
            "Epoch 2/5\n",
            "1680/1680 [==============================] - 6039s 4s/step - loss: 0.6932 - auc_2: 0.4992 - accuracy: 0.4994 - val_loss: 0.6931 - val_auc_2: 0.5000 - val_accuracy: 0.5001\n",
            "Epoch 3/5\n",
            "1680/1680 [==============================] - 6042s 4s/step - loss: 0.6932 - auc_2: 0.4999 - accuracy: 0.5006 - val_loss: 0.6931 - val_auc_2: 0.5000 - val_accuracy: 0.4999\n",
            "Epoch 4/5\n",
            "1680/1680 [==============================] - 6063s 4s/step - loss: 0.6932 - auc_2: 0.5005 - accuracy: 0.4997 - val_loss: 0.6932 - val_auc_2: 0.5000 - val_accuracy: 0.4999\n",
            "Epoch 5/5\n",
            "1680/1680 [==============================] - 6045s 4s/step - loss: 0.6932 - auc_2: 0.4989 - accuracy: 0.5002 - val_loss: 0.6931 - val_auc_2: 0.5000 - val_accuracy: 0.5001\n"
          ]
        }
      ]
    },
    {
      "cell_type": "code",
      "source": [
        "import matplotlib.pyplot as plt\n",
        "\n",
        "# Plot training & validation accuracy values\n",
        "plt.plot(history_cnn.history['accuracy'])\n",
        "plt.plot(history_cnn.history['val_accuracy'])\n",
        "plt.title('Model accuracy')\n",
        "plt.ylabel('Accuracy')\n",
        "plt.xlabel('Epoch')\n",
        "plt.legend(['Train', 'Validation'], loc='upper left')\n",
        "plt.show()\n"
      ],
      "metadata": {
        "colab": {
          "base_uri": "https://localhost:8080/",
          "height": 472
        },
        "id": "9l_mjcOyNqV1",
        "outputId": "641eeeb9-9698-49b0-ff19-b65df79fabe6"
      },
      "execution_count": 32,
      "outputs": [
        {
          "output_type": "display_data",
          "data": {
            "text/plain": [
              "<Figure size 640x480 with 1 Axes>"
            ],
            "image/png": "[encoded data removed]"
          },
          "metadata": {}
        }
      ]
    },
    {
      "cell_type": "code",
      "source": [
        "# Save the model\n",
        "model_cnn2.save('my_model.h4')  # creates a HDF5 file 'my_model.h5'\n"
      ],
      "metadata": {
        "colab": {
          "base_uri": "https://localhost:8080/"
        },
        "id": "EtsvMItABPdG",
        "outputId": "25183861-ba01-42ea-87e7-402821720896"
      },
      "execution_count": 33,
      "outputs": [
        {
          "output_type": "stream",
          "name": "stderr",
          "text": [
            "WARNING:absl:Function `_wrapped_model` contains input name(s) Conv_01_input with unsupported characters which will be renamed to conv_01_input in the SavedModel.\n",
            "WARNING:absl:Found untraced functions such as _jit_compiled_convolution_op, _jit_compiled_convolution_op, _jit_compiled_convolution_op, _update_step_xla while saving (showing 4 of 4). These functions will not be directly callable after loading.\n"
          ]
        }
      ]
    },
    {
      "cell_type": "code",
      "source": [
        "from keras.models import Sequential\n",
        "from keras.layers import Dense, Conv2D, Flatten, MaxPooling2D\n",
        "\n",
        "# create model\n",
        "model = Sequential()\n",
        "\n",
        "# add model layers\n",
        "model.add(Conv2D(64, kernel_size=3, activation='relu', input_shape=input_shape))  # Adjust the input_shape parameters as needed\n",
        "model.add(MaxPooling2D(pool_size=(2, 2)))\n",
        "model.add(Conv2D(32, kernel_size=3, activation='relu'))\n",
        "model.add(MaxPooling2D(pool_size=(2, 2)))\n",
        "model.add(Flatten())\n",
        "model.add(Dense(1, activation='sigmoid'))  # Using sigmoid for binary classification\n",
        "\n",
        "# compile model using binary crossentropy as this is a binary classification problem\n",
        "model.compile(optimizer='adam', loss='binary_crossentropy', metrics=['accuracy'])\n",
        "\n",
        "# model summary\n",
        "model.summary()\n"
      ],
      "metadata": {
        "colab": {
          "base_uri": "https://localhost:8080/"
        },
        "id": "5n7KcU04JmaL",
        "outputId": "fda9908d-ab92-47f6-98eb-ef629bd7a32f"
      },
      "execution_count": 20,
      "outputs": [
        {
          "output_type": "stream",
          "name": "stdout",
          "text": [
            "Model: \"sequential_1\"\n",
            "_________________________________________________________________\n",
            " Layer (type)                Output Shape              Param #   \n",
            "=================================================================\n",
            " conv2d_2 (Conv2D)           (None, 54, 191, 64)       640       \n",
            "                                                                 \n",
            " max_pooling2d_2 (MaxPooling  (None, 27, 95, 64)       0         \n",
            " 2D)                                                             \n",
            "                                                                 \n",
            " conv2d_3 (Conv2D)           (None, 25, 93, 32)        18464     \n",
            "                                                                 \n",
            " max_pooling2d_3 (MaxPooling  (None, 12, 46, 32)       0         \n",
            " 2D)                                                             \n",
            "                                                                 \n",
            " flatten_1 (Flatten)         (None, 17664)             0         \n",
            "                                                                 \n",
            " dense_1 (Dense)             (None, 1)                 17665     \n",
            "                                                                 \n",
            "=================================================================\n",
            "Total params: 36,769\n",
            "Trainable params: 36,769\n",
            "Non-trainable params: 0\n",
            "_________________________________________________________________\n"
          ]
        }
      ]
    },
    {
      "cell_type": "code",
      "source": [
        "%%time\n",
        "# train model\n",
        "Hist_simple = model.fit(x= train_dataset, validation_data=valid_dataset, epochs=10, batch_size=batch_size)\n"
      ],
      "metadata": {
        "colab": {
          "base_uri": "https://localhost:8080/"
        },
        "id": "SQkgYLJc6yRC",
        "outputId": "d531de66-50b3-4dcf-b22e-e3f72896bc08"
      },
      "execution_count": 22,
      "outputs": [
        {
          "output_type": "stream",
          "name": "stdout",
          "text": [
            "Epoch 1/10\n",
            "1680/1680 [==============================] - 5164s 3s/step - loss: 0.5234 - accuracy: 0.7244 - val_loss: 0.5193 - val_accuracy: 0.7478\n",
            "Epoch 2/10\n",
            "1680/1680 [==============================] - 5456s 3s/step - loss: 0.4921 - accuracy: 0.7512 - val_loss: 0.4815 - val_accuracy: 0.7589\n",
            "Epoch 3/10\n",
            "1680/1680 [==============================] - 5706s 3s/step - loss: 0.4872 - accuracy: 0.7541 - val_loss: 0.4893 - val_accuracy: 0.7622\n",
            "Epoch 4/10\n",
            "1680/1680 [==============================] - 5741s 3s/step - loss: 0.4830 - accuracy: 0.7577 - val_loss: 0.4786 - val_accuracy: 0.7635\n",
            "Epoch 5/10\n",
            "1680/1680 [==============================] - 5694s 3s/step - loss: 0.4808 - accuracy: 0.7583 - val_loss: 0.4877 - val_accuracy: 0.7438\n",
            "Epoch 6/10\n",
            "1680/1680 [==============================] - 5798s 3s/step - loss: 0.4786 - accuracy: 0.7610 - val_loss: 0.4789 - val_accuracy: 0.7668\n",
            "Epoch 7/10\n",
            "1680/1680 [==============================] - 5807s 3s/step - loss: 0.4775 - accuracy: 0.7612 - val_loss: 0.4742 - val_accuracy: 0.7670\n",
            "Epoch 8/10\n",
            "1680/1680 [==============================] - 6120s 4s/step - loss: 0.4755 - accuracy: 0.7624 - val_loss: 0.4814 - val_accuracy: 0.7666\n",
            "Epoch 9/10\n",
            "1680/1680 [==============================] - 6050s 4s/step - loss: 0.4750 - accuracy: 0.7629 - val_loss: 0.4754 - val_accuracy: 0.7587\n",
            "Epoch 10/10\n",
            "1680/1680 [==============================] - 5924s 4s/step - loss: 0.4741 - accuracy: 0.7628 - val_loss: 0.4740 - val_accuracy: 0.7649\n",
            "CPU times: user 1d 19h 44min 3s, sys: 6h 54min 29s, total: 2d 2h 38min 33s\n",
            "Wall time: 15h 59min 37s\n"
          ]
        }
      ]
    },
    {
      "cell_type": "code",
      "source": [
        " import matplotlib.pyplot as plt\n",
        "\n",
        "# Plot training & validation accuracy values\n",
        "plt.plot(Hist_simple.history['accuracy'])\n",
        "plt.plot(Hist_simple.history['val_accuracy'])\n",
        "plt.title('Model accuracy')\n",
        "plt.ylabel('Accuracy')\n",
        "plt.xlabel('Epoch')\n",
        "plt.legend(['Train', 'Validation'], loc='upper left')\n",
        "plt.show()\n"
      ],
      "metadata": {
        "colab": {
          "base_uri": "https://localhost:8080/",
          "height": 472
        },
        "id": "QIk3umWv7Rf9",
        "outputId": "aa9191e9-a6ee-48c2-ddfc-c942e6ab444d"
      },
      "execution_count": 24,
      "outputs": [
        {
          "output_type": "display_data",
          "data": {
            "text/plain": [
              "<Figure size 640x480 with 1 Axes>"
            ],
            "image/png": "[encoded data removed]"
          },
          "metadata": {}
        }
      ]
    },
    {
      "cell_type": "code",
      "source": [
        "from keras.models import Sequential\n",
        "from keras.layers import Dense, Conv2D, Flatten, MaxPooling2D\n",
        "\n",
        "# create model\n",
        "model = Sequential()\n",
        "\n",
        "# add model layers\n",
        "model.add(Conv2D(64, kernel_size=3, activation='relu', input_shape=input_shape))  # Adjust the input_shape parameters as needed\n",
        "model.add(MaxPooling2D(pool_size=(2, 2)))\n",
        "model.add(Conv2D(128, kernel_size=3, activation='relu'))  # New Conv2D layer added here\n",
        "model.add(MaxPooling2D(pool_size=(2, 2)))\n",
        "model.add(Conv2D(32, kernel_size=3, activation='relu'))\n",
        "model.add(MaxPooling2D(pool_size=(2, 2)))\n",
        "model.add(Flatten())\n",
        "model.add(Dense(1, activation='sigmoid'))  # Using sigmoid for binary classification\n",
        "\n",
        "# compile model using binary crossentropy as this is a binary classification problem\n",
        "model.compile(optimizer='adam', loss='binary_crossentropy', metrics=['accuracy'])\n",
        "\n",
        "# model summary\n",
        "model.summary()\n"
      ],
      "metadata": {
        "colab": {
          "base_uri": "https://localhost:8080/"
        },
        "id": "IeVsw_tRXYwE",
        "outputId": "22b5ae64-1c25-484c-a3bd-35a51c14274e"
      },
      "execution_count": 25,
      "outputs": [
        {
          "output_type": "stream",
          "name": "stdout",
          "text": [
            "Model: \"sequential_2\"\n",
            "_________________________________________________________________\n",
            " Layer (type)                Output Shape              Param #   \n",
            "=================================================================\n",
            " conv2d_4 (Conv2D)           (None, 54, 191, 64)       640       \n",
            "                                                                 \n",
            " max_pooling2d_4 (MaxPooling  (None, 27, 95, 64)       0         \n",
            " 2D)                                                             \n",
            "                                                                 \n",
            " conv2d_5 (Conv2D)           (None, 25, 93, 128)       73856     \n",
            "                                                                 \n",
            " max_pooling2d_5 (MaxPooling  (None, 12, 46, 128)      0         \n",
            " 2D)                                                             \n",
            "                                                                 \n",
            " conv2d_6 (Conv2D)           (None, 10, 44, 32)        36896     \n",
            "                                                                 \n",
            " max_pooling2d_6 (MaxPooling  (None, 5, 22, 32)        0         \n",
            " 2D)                                                             \n",
            "                                                                 \n",
            " flatten_2 (Flatten)         (None, 3520)              0         \n",
            "                                                                 \n",
            " dense_2 (Dense)             (None, 1)                 3521      \n",
            "                                                                 \n",
            "=================================================================\n",
            "Total params: 114,913\n",
            "Trainable params: 114,913\n",
            "Non-trainable params: 0\n",
            "_________________________________________________________________\n"
          ]
        }
      ]
    },
    {
      "cell_type": "code",
      "source": [
        "%%time\n",
        "# train model\n",
        "Hist_simple = model.fit(x= train_dataset, validation_data=valid_dataset, epochs=5, batch_size=batch_size)\n"
      ],
      "metadata": {
        "colab": {
          "base_uri": "https://localhost:8080/"
        },
        "id": "uYQU2Ke0Yb7B",
        "outputId": "42fdb177-d8ad-4965-d0ce-13626a2ff528"
      },
      "execution_count": null,
      "outputs": [
        {
          "output_type": "stream",
          "name": "stdout",
          "text": [
            "Epoch 1/5\n",
            "1680/1680 [==============================] - 8852s 5s/step - loss: 0.5128 - accuracy: 0.7321 - val_loss: 0.4836 - val_accuracy: 0.7513\n",
            "Epoch 2/5\n",
            "1680/1680 [==============================] - 8529s 5s/step - loss: 0.4835 - accuracy: 0.7563 - val_loss: 0.4827 - val_accuracy: 0.7635\n",
            "Epoch 3/5\n",
            "1678/1680 [============================>.] - ETA: 8s - loss: 0.4771 - accuracy: 0.7609 "
          ]
        }
      ]
    },
    {
      "cell_type": "code",
      "source": [],
      "metadata": {
        "id": "QIKjmxek5QY4"
      },
      "execution_count": null,
      "outputs": []
    }
  ]
}